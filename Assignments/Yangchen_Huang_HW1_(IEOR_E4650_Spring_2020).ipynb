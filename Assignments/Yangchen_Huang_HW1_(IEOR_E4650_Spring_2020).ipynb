{
  "nbformat": 4,
  "nbformat_minor": 0,
  "metadata": {
    "colab": {
      "name": "Yangchen Huang - HW1 (IEOR E4650 Spring 2020).ipynb",
      "provenance": [],
      "collapsed_sections": [],
      "machine_shape": "hm",
      "include_colab_link": true
    },
    "kernelspec": {
      "name": "python3",
      "display_name": "Python 3"
    }
  },
  "cells": [
    {
      "cell_type": "markdown",
      "metadata": {
        "id": "view-in-github",
        "colab_type": "text"
      },
      "source": [
        "<a href=\"https://colab.research.google.com/github/YangchenHuang/Business_Analytics/blob/master/Assignments/Yangchen_Huang_HW1_(IEOR_E4650_Spring_2020).ipynb\" target=\"_parent\"><img src=\"https://colab.research.google.com/assets/colab-badge.svg\" alt=\"Open In Colab\"/></a>"
      ]
    },
    {
      "cell_type": "markdown",
      "metadata": {
        "id": "9JCRnqkLnjHE",
        "colab_type": "text"
      },
      "source": [
        "# **IEOR 4650  Business Analytics (Spring 2020)**\n",
        "\n",
        "**Homework 1 [Total points: 60]**\n",
        "\n",
        "**Due: 11:59 PM, Feb 15**\n",
        "\n",
        "Homework 1 consists of Python programming practices and the applications to data cleaning and linear regression. \n",
        "\n",
        "The steps to finish the homework:\n",
        "\n",
        "*   Step 1: Answer your homework on Google Colab.\n",
        "*   Step 2: Submit the copy on Google Assignment\n",
        "\n",
        "Before you submit your assignment, make sure to re-run your code from the beginning. (You can do so by first clicking Runtime/Reset All Runtimes and then clicking Runtime/Run all)\n",
        "\n"
      ]
    },
    {
      "cell_type": "code",
      "metadata": {
        "id": "lSH_bDnX2ybu",
        "colab_type": "code",
        "colab": {}
      },
      "source": [
        "#This imports all the packages you need for the homework\n",
        "#Please run this first\n",
        "\n",
        "\n",
        "!pip install -U -q PyDrive\n",
        "from pydrive.auth import GoogleAuth\n",
        "from pydrive.drive import GoogleDrive\n",
        "from google.colab import auth\n",
        "from oauth2client.client import GoogleCredentials\n",
        "# Authenticate and create the PyDrive client.\n",
        "auth.authenticate_user()\n",
        "gauth = GoogleAuth()\n",
        "gauth.credentials = GoogleCredentials.get_application_default()\n",
        "drive = GoogleDrive(gauth)\n",
        "\n",
        "\n",
        "#import modules\n",
        "\n",
        "import numpy as np\n",
        "import pandas as pd\n",
        "from statsmodels.formula.api import ols\n",
        "import matplotlib.pyplot as plt\n",
        "\n"
      ],
      "execution_count": 0,
      "outputs": []
    },
    {
      "cell_type": "markdown",
      "metadata": {
        "id": "85PhtRJHpEMr",
        "colab_type": "text"
      },
      "source": [
        "## Exercise 1 [Total: 24 Points]\n",
        "\n",
        "In this exercise, we will work a Star Wars dataset that practices our data cleaning skills.\n",
        "\n",
        "<div>\n",
        "<img src=\"https://upload.wikimedia.org/wikipedia/en/0/00/The_Child_aka_Baby_Yoda_%28Star_Wars%29.jpg\" width=\"250\"/>\n",
        "</div>\n",
        "\n",
        "## Setting\n",
        "Star Wars is an American epic space-opera media franchise created by George Lucas, which began with the eponymous 1977 film and quickly became a worldwide pop-culture phenomenon. In Star Wars, there are many characters. Different characters live on different planets. In this exercise, we study two different tables. \n",
        "\n",
        "**Table 1: Characters**\n",
        "\n",
        "In this table, each row represents a character. The columns give the name and the features of the character.\n",
        "\n",
        "\n",
        "\n",
        "\n",
        "|Variable| Description|\n",
        "|---|---|\n",
        "|name |Name of the character|\n",
        "|height |Height (cm)|\n",
        "|mass |Weight (kg)|\n",
        "|hair_color | Hair color|\n",
        "|skin_color | Skin color|\n",
        "|eye_color | Eye color|\n",
        "|birth_year| Year born (BBY = Before Battle of Yavin)|\n",
        "|gender|Gender|\n",
        "|homeworld|Name of homeworld|\n",
        "|species|Name of species|\n",
        "\n",
        "**Table 2: Planets**\n",
        "\n",
        "\n",
        "|Variable| Description|\n",
        "|---|---|\n",
        "|name| name of the planet|\n",
        "|rotation_period| rotation period of the planet| \n",
        "|orbital_period| orbital period of the planet|\n",
        "|diameter| diameter of the planet|\n",
        "|climate| climate of the planet|\n",
        "|gravity| gravity of the planet| \n",
        "|terrain| type of terrain on the planet|\n",
        "|surface_water| surface water percentage|\n",
        "|population| population on the planet|\n",
        "\n",
        "**For these questions, you might need to certain methods that are not covered in the lecture**\n",
        "\n",
        "**A good reference is Pandas cheatsheet [here](https://pandas.pydata.org/Pandas_Cheat_Sheet.pdf)**"
      ]
    },
    {
      "cell_type": "code",
      "metadata": {
        "id": "UQjQyhHfBDP7",
        "colab_type": "code",
        "outputId": "85e91809-088f-4d84-a721-bdc63931dc80",
        "colab": {
          "base_uri": "https://localhost:8080/",
          "height": 195
        }
      },
      "source": [
        "#Load the dataset Planet\n",
        "link=\"https://drive.google.com/open?id=1UNSrNrwJ962yWuZAIfrpP_JLp-HHI-1z\"\n",
        "_,id=link.split(\"=\")\n",
        "downloaded = drive.CreateFile({'id':id}) \n",
        "downloaded.GetContentFile('myfile.csv')  \n",
        "Planet = pd.read_csv('myfile.csv')\n",
        "Planet.head(5)\n",
        "\n",
        "\n",
        "\n"
      ],
      "execution_count": 0,
      "outputs": [
        {
          "output_type": "execute_result",
          "data": {
            "text/html": [
              "<div>\n",
              "<style scoped>\n",
              "    .dataframe tbody tr th:only-of-type {\n",
              "        vertical-align: middle;\n",
              "    }\n",
              "\n",
              "    .dataframe tbody tr th {\n",
              "        vertical-align: top;\n",
              "    }\n",
              "\n",
              "    .dataframe thead th {\n",
              "        text-align: right;\n",
              "    }\n",
              "</style>\n",
              "<table border=\"1\" class=\"dataframe\">\n",
              "  <thead>\n",
              "    <tr style=\"text-align: right;\">\n",
              "      <th></th>\n",
              "      <th>name</th>\n",
              "      <th>rotation_period</th>\n",
              "      <th>orbital_period</th>\n",
              "      <th>diameter</th>\n",
              "      <th>climate</th>\n",
              "      <th>gravity</th>\n",
              "      <th>terrain</th>\n",
              "      <th>surface_water</th>\n",
              "      <th>population</th>\n",
              "    </tr>\n",
              "  </thead>\n",
              "  <tbody>\n",
              "    <tr>\n",
              "      <th>0</th>\n",
              "      <td>Alderaan</td>\n",
              "      <td>24.0</td>\n",
              "      <td>364.0</td>\n",
              "      <td>12500.0</td>\n",
              "      <td>temperate</td>\n",
              "      <td>1 standard</td>\n",
              "      <td>grasslands, mountains</td>\n",
              "      <td>40.0</td>\n",
              "      <td>2.000000e+09</td>\n",
              "    </tr>\n",
              "    <tr>\n",
              "      <th>1</th>\n",
              "      <td>Yavin IV</td>\n",
              "      <td>24.0</td>\n",
              "      <td>4818.0</td>\n",
              "      <td>10200.0</td>\n",
              "      <td>temperate, tropical</td>\n",
              "      <td>1 standard</td>\n",
              "      <td>jungle, rainforests</td>\n",
              "      <td>8.0</td>\n",
              "      <td>1.000000e+03</td>\n",
              "    </tr>\n",
              "    <tr>\n",
              "      <th>2</th>\n",
              "      <td>Hoth</td>\n",
              "      <td>23.0</td>\n",
              "      <td>549.0</td>\n",
              "      <td>7200.0</td>\n",
              "      <td>frozen</td>\n",
              "      <td>1.1 standard</td>\n",
              "      <td>tundra, ice caves, mountain ranges</td>\n",
              "      <td>100.0</td>\n",
              "      <td>NaN</td>\n",
              "    </tr>\n",
              "    <tr>\n",
              "      <th>3</th>\n",
              "      <td>Dagobah</td>\n",
              "      <td>23.0</td>\n",
              "      <td>341.0</td>\n",
              "      <td>8900.0</td>\n",
              "      <td>murky</td>\n",
              "      <td>NaN</td>\n",
              "      <td>swamp, jungles</td>\n",
              "      <td>8.0</td>\n",
              "      <td>NaN</td>\n",
              "    </tr>\n",
              "    <tr>\n",
              "      <th>4</th>\n",
              "      <td>Bespin</td>\n",
              "      <td>12.0</td>\n",
              "      <td>5110.0</td>\n",
              "      <td>118000.0</td>\n",
              "      <td>temperate</td>\n",
              "      <td>1.5 (surface), 1 standard (Cloud City)</td>\n",
              "      <td>gas giant</td>\n",
              "      <td>0.0</td>\n",
              "      <td>6.000000e+06</td>\n",
              "    </tr>\n",
              "  </tbody>\n",
              "</table>\n",
              "</div>"
            ],
            "text/plain": [
              "       name  rotation_period  ...  surface_water    population\n",
              "0  Alderaan             24.0  ...           40.0  2.000000e+09\n",
              "1  Yavin IV             24.0  ...            8.0  1.000000e+03\n",
              "2      Hoth             23.0  ...          100.0           NaN\n",
              "3   Dagobah             23.0  ...            8.0           NaN\n",
              "4    Bespin             12.0  ...            0.0  6.000000e+06\n",
              "\n",
              "[5 rows x 9 columns]"
            ]
          },
          "metadata": {
            "tags": []
          },
          "execution_count": 2
        }
      ]
    },
    {
      "cell_type": "code",
      "metadata": {
        "id": "Kcl3ruVywoCv",
        "colab_type": "code",
        "outputId": "ca80b310-53c9-40d1-be81-f11cf754f4ec",
        "colab": {
          "base_uri": "https://localhost:8080/",
          "height": 195
        }
      },
      "source": [
        "#Load the dataset Character\n",
        "\n",
        "link=\"https://drive.google.com/open?id=1NUzWu-IyhGHKp1kvkjHldRgcmXxq0o1o\"\n",
        "_,id=link.split(\"=\")\n",
        "downloaded = drive.CreateFile({'id':id}) \n",
        "downloaded.GetContentFile('myfile.csv')  \n",
        "Characters = pd.read_csv('myfile.csv')\n",
        "Characters.head(5)\n"
      ],
      "execution_count": 0,
      "outputs": [
        {
          "output_type": "execute_result",
          "data": {
            "text/html": [
              "<div>\n",
              "<style scoped>\n",
              "    .dataframe tbody tr th:only-of-type {\n",
              "        vertical-align: middle;\n",
              "    }\n",
              "\n",
              "    .dataframe tbody tr th {\n",
              "        vertical-align: top;\n",
              "    }\n",
              "\n",
              "    .dataframe thead th {\n",
              "        text-align: right;\n",
              "    }\n",
              "</style>\n",
              "<table border=\"1\" class=\"dataframe\">\n",
              "  <thead>\n",
              "    <tr style=\"text-align: right;\">\n",
              "      <th></th>\n",
              "      <th>name</th>\n",
              "      <th>height</th>\n",
              "      <th>mass</th>\n",
              "      <th>hair_color</th>\n",
              "      <th>skin_color</th>\n",
              "      <th>eye_color</th>\n",
              "      <th>birth_year</th>\n",
              "      <th>gender</th>\n",
              "      <th>homeworld</th>\n",
              "      <th>species</th>\n",
              "    </tr>\n",
              "  </thead>\n",
              "  <tbody>\n",
              "    <tr>\n",
              "      <th>0</th>\n",
              "      <td>Luke Skywalker</td>\n",
              "      <td>172.0</td>\n",
              "      <td>77</td>\n",
              "      <td>blond</td>\n",
              "      <td>fair</td>\n",
              "      <td>blue</td>\n",
              "      <td>19BBY</td>\n",
              "      <td>male</td>\n",
              "      <td>Tatooine</td>\n",
              "      <td>Human</td>\n",
              "    </tr>\n",
              "    <tr>\n",
              "      <th>1</th>\n",
              "      <td>C-3PO</td>\n",
              "      <td>167.0</td>\n",
              "      <td>75</td>\n",
              "      <td>NaN</td>\n",
              "      <td>gold</td>\n",
              "      <td>yellow</td>\n",
              "      <td>112BBY</td>\n",
              "      <td>NaN</td>\n",
              "      <td>Tatooine</td>\n",
              "      <td>Droid</td>\n",
              "    </tr>\n",
              "    <tr>\n",
              "      <th>2</th>\n",
              "      <td>R2-D2</td>\n",
              "      <td>96.0</td>\n",
              "      <td>32</td>\n",
              "      <td>NaN</td>\n",
              "      <td>white, blue</td>\n",
              "      <td>red</td>\n",
              "      <td>33BBY</td>\n",
              "      <td>NaN</td>\n",
              "      <td>Naboo</td>\n",
              "      <td>Droid</td>\n",
              "    </tr>\n",
              "    <tr>\n",
              "      <th>3</th>\n",
              "      <td>Darth Vader</td>\n",
              "      <td>202.0</td>\n",
              "      <td>136</td>\n",
              "      <td>none</td>\n",
              "      <td>white</td>\n",
              "      <td>yellow</td>\n",
              "      <td>41.9BBY</td>\n",
              "      <td>male</td>\n",
              "      <td>Tatooine</td>\n",
              "      <td>Human</td>\n",
              "    </tr>\n",
              "    <tr>\n",
              "      <th>4</th>\n",
              "      <td>Leia Organa</td>\n",
              "      <td>150.0</td>\n",
              "      <td>49</td>\n",
              "      <td>brown</td>\n",
              "      <td>light</td>\n",
              "      <td>brown</td>\n",
              "      <td>19BBY</td>\n",
              "      <td>female</td>\n",
              "      <td>Alderaan</td>\n",
              "      <td>Human</td>\n",
              "    </tr>\n",
              "  </tbody>\n",
              "</table>\n",
              "</div>"
            ],
            "text/plain": [
              "             name  height mass hair_color  ... birth_year  gender homeworld species\n",
              "0  Luke Skywalker   172.0   77      blond  ...      19BBY    male  Tatooine   Human\n",
              "1           C-3PO   167.0   75        NaN  ...     112BBY     NaN  Tatooine   Droid\n",
              "2           R2-D2    96.0   32        NaN  ...      33BBY     NaN     Naboo   Droid\n",
              "3     Darth Vader   202.0  136       none  ...    41.9BBY    male  Tatooine   Human\n",
              "4     Leia Organa   150.0   49      brown  ...      19BBY  female  Alderaan   Human\n",
              "\n",
              "[5 rows x 10 columns]"
            ]
          },
          "metadata": {
            "tags": []
          },
          "execution_count": 3
        }
      ]
    },
    {
      "cell_type": "markdown",
      "metadata": {
        "id": "KgQlKUMK1N3r",
        "colab_type": "text"
      },
      "source": [
        "### Q1. [4 points]\n",
        "\n",
        "* Replace all the NA values in **Characters** table with np.nan. \n",
        "* Change the format of the columns for \"height\" and \"mass\" to float values.\n",
        "* Report how many characters have missing height value or mass value.\n",
        "\n",
        "**Make sure to print out the output for each sub-question**"
      ]
    },
    {
      "cell_type": "code",
      "metadata": {
        "id": "COzyvl8h1Nbz",
        "colab_type": "code",
        "outputId": "a8e2906c-038e-46d0-f188-289721e110a5",
        "colab": {
          "base_uri": "https://localhost:8080/",
          "height": 202
        }
      },
      "source": [
        "# Replace all the NA values in Characters table with np.nan\n",
        "Characters=Characters.replace(\"NaN\", np.nan)\n",
        "Characters.dtypes\n",
        "Characters.isna().sum()"
      ],
      "execution_count": 0,
      "outputs": [
        {
          "output_type": "execute_result",
          "data": {
            "text/plain": [
              "name           0\n",
              "height         6\n",
              "mass          28\n",
              "hair_color     6\n",
              "skin_color     2\n",
              "eye_color      3\n",
              "birth_year    44\n",
              "gender         3\n",
              "homeworld     10\n",
              "species        5\n",
              "dtype: int64"
            ]
          },
          "metadata": {
            "tags": []
          },
          "execution_count": 4
        }
      ]
    },
    {
      "cell_type": "code",
      "metadata": {
        "id": "7C5FeYIz-Ddj",
        "colab_type": "code",
        "outputId": "78a5067a-9f14-427d-c94f-b2508cbc99a4",
        "colab": {
          "base_uri": "https://localhost:8080/",
          "height": 202
        }
      },
      "source": [
        "Characters.dtypes\n",
        "# height already formated as float, only need to format mass"
      ],
      "execution_count": 0,
      "outputs": [
        {
          "output_type": "execute_result",
          "data": {
            "text/plain": [
              "name           object\n",
              "height        float64\n",
              "mass           object\n",
              "hair_color     object\n",
              "skin_color     object\n",
              "eye_color      object\n",
              "birth_year     object\n",
              "gender         object\n",
              "homeworld      object\n",
              "species        object\n",
              "dtype: object"
            ]
          },
          "metadata": {
            "tags": []
          },
          "execution_count": 5
        }
      ]
    },
    {
      "cell_type": "code",
      "metadata": {
        "id": "d-HgsmZE2yif",
        "colab_type": "code",
        "outputId": "b9da9c26-2bee-4c83-ccb8-070a04282884",
        "colab": {
          "base_uri": "https://localhost:8080/",
          "height": 202
        }
      },
      "source": [
        "# Change the format of the columns for \"height\" and \"mass\" to float values.\n",
        "\n",
        "Characters[\"mass\"]=Characters[\"mass\"].astype(str)\n",
        "Characters[\"mass\"].dtypes\n",
        "def convert(value):\n",
        "  new_value=value.replace(\",\",\"\")\n",
        "  return np.float(new_value)\n",
        "Characters[\"mass\"]=Characters[\"mass\"].apply(convert)\n",
        "Characters.dtypes"
      ],
      "execution_count": 0,
      "outputs": [
        {
          "output_type": "execute_result",
          "data": {
            "text/plain": [
              "name           object\n",
              "height        float64\n",
              "mass          float64\n",
              "hair_color     object\n",
              "skin_color     object\n",
              "eye_color      object\n",
              "birth_year     object\n",
              "gender         object\n",
              "homeworld      object\n",
              "species        object\n",
              "dtype: object"
            ]
          },
          "metadata": {
            "tags": []
          },
          "execution_count": 6
        }
      ]
    },
    {
      "cell_type": "code",
      "metadata": {
        "id": "d9xy3d5s-c2Q",
        "colab_type": "code",
        "outputId": "bb85eecf-e799-4d18-d6e5-01c843e036ca",
        "colab": {
          "base_uri": "https://localhost:8080/",
          "height": 67
        }
      },
      "source": [
        "# Report how many characters have missing height value or mass value.\n",
        "Characters[[\"height\",\"mass\"]].isna().sum()"
      ],
      "execution_count": 0,
      "outputs": [
        {
          "output_type": "execute_result",
          "data": {
            "text/plain": [
              "height     6\n",
              "mass      28\n",
              "dtype: int64"
            ]
          },
          "metadata": {
            "tags": []
          },
          "execution_count": 7
        }
      ]
    },
    {
      "cell_type": "markdown",
      "metadata": {
        "id": "aGnYSK1CF5F0",
        "colab_type": "text"
      },
      "source": [
        "###Q2 [10 points]\n",
        "\n",
        "BMI (Body Mass Index) is a person's weight in kilograms divided by the square of height in meters.\n",
        "\n",
        "In addition, we have a conversion rule defined as follows:\n",
        "\n",
        "| BMI range|BMI Categories|\n",
        "|---|---|\n",
        "| Human and (0,18.5)|Underweight|\n",
        "| Human and [18.5–25)|Normal|\n",
        "| Human and [25–30)|Overweight|\n",
        "| Human and [30, $\\infty$)|Obesity|\n",
        "|Not Human and any BMI| NotHuman|\n",
        "\n",
        "* Assign a new column \"BMI\"  that gives the BMI of each character to the **Characters** table.\n",
        "* Assign a new column \"BMI_category\" to **Characters** table, This new column converts the BMI of each character to the BMI category based on the table listed above.\n",
        "* Report how many characters fall into each of the five BMI categories. [hint: search groupby method]\n",
        "* Report the human with the highest BMI and lowest BMI. **Make sure that your code takes care of ties. In other words, you should not eyeball the results. Also, when tie happens, the code should automatically report all of them** \n",
        "\n",
        "\n",
        "**Make sure to print out the output for each sub-question**"
      ]
    },
    {
      "cell_type": "code",
      "metadata": {
        "id": "KxxUg0axF62h",
        "colab_type": "code",
        "outputId": "fe9914e2-ff25-4c80-c209-b962eeaf956a",
        "colab": {
          "base_uri": "https://localhost:8080/",
          "height": 402
        }
      },
      "source": [
        "# Assign a new column \"BMI\" that gives the BMI of each character to the Characters table.\n",
        "Characters=Characters.assign(BMI=Characters[\"mass\"] / (Characters[\"height\"]/100)**2)\n",
        "Characters"
      ],
      "execution_count": 0,
      "outputs": [
        {
          "output_type": "execute_result",
          "data": {
            "text/html": [
              "<div>\n",
              "<style scoped>\n",
              "    .dataframe tbody tr th:only-of-type {\n",
              "        vertical-align: middle;\n",
              "    }\n",
              "\n",
              "    .dataframe tbody tr th {\n",
              "        vertical-align: top;\n",
              "    }\n",
              "\n",
              "    .dataframe thead th {\n",
              "        text-align: right;\n",
              "    }\n",
              "</style>\n",
              "<table border=\"1\" class=\"dataframe\">\n",
              "  <thead>\n",
              "    <tr style=\"text-align: right;\">\n",
              "      <th></th>\n",
              "      <th>name</th>\n",
              "      <th>height</th>\n",
              "      <th>mass</th>\n",
              "      <th>hair_color</th>\n",
              "      <th>skin_color</th>\n",
              "      <th>eye_color</th>\n",
              "      <th>birth_year</th>\n",
              "      <th>gender</th>\n",
              "      <th>homeworld</th>\n",
              "      <th>species</th>\n",
              "      <th>BMI</th>\n",
              "    </tr>\n",
              "  </thead>\n",
              "  <tbody>\n",
              "    <tr>\n",
              "      <th>0</th>\n",
              "      <td>Luke Skywalker</td>\n",
              "      <td>172.0</td>\n",
              "      <td>77.0</td>\n",
              "      <td>blond</td>\n",
              "      <td>fair</td>\n",
              "      <td>blue</td>\n",
              "      <td>19BBY</td>\n",
              "      <td>male</td>\n",
              "      <td>Tatooine</td>\n",
              "      <td>Human</td>\n",
              "      <td>26.027582</td>\n",
              "    </tr>\n",
              "    <tr>\n",
              "      <th>1</th>\n",
              "      <td>C-3PO</td>\n",
              "      <td>167.0</td>\n",
              "      <td>75.0</td>\n",
              "      <td>NaN</td>\n",
              "      <td>gold</td>\n",
              "      <td>yellow</td>\n",
              "      <td>112BBY</td>\n",
              "      <td>NaN</td>\n",
              "      <td>Tatooine</td>\n",
              "      <td>Droid</td>\n",
              "      <td>26.892323</td>\n",
              "    </tr>\n",
              "    <tr>\n",
              "      <th>2</th>\n",
              "      <td>R2-D2</td>\n",
              "      <td>96.0</td>\n",
              "      <td>32.0</td>\n",
              "      <td>NaN</td>\n",
              "      <td>white, blue</td>\n",
              "      <td>red</td>\n",
              "      <td>33BBY</td>\n",
              "      <td>NaN</td>\n",
              "      <td>Naboo</td>\n",
              "      <td>Droid</td>\n",
              "      <td>34.722222</td>\n",
              "    </tr>\n",
              "    <tr>\n",
              "      <th>3</th>\n",
              "      <td>Darth Vader</td>\n",
              "      <td>202.0</td>\n",
              "      <td>136.0</td>\n",
              "      <td>none</td>\n",
              "      <td>white</td>\n",
              "      <td>yellow</td>\n",
              "      <td>41.9BBY</td>\n",
              "      <td>male</td>\n",
              "      <td>Tatooine</td>\n",
              "      <td>Human</td>\n",
              "      <td>33.330066</td>\n",
              "    </tr>\n",
              "    <tr>\n",
              "      <th>4</th>\n",
              "      <td>Leia Organa</td>\n",
              "      <td>150.0</td>\n",
              "      <td>49.0</td>\n",
              "      <td>brown</td>\n",
              "      <td>light</td>\n",
              "      <td>brown</td>\n",
              "      <td>19BBY</td>\n",
              "      <td>female</td>\n",
              "      <td>Alderaan</td>\n",
              "      <td>Human</td>\n",
              "      <td>21.777778</td>\n",
              "    </tr>\n",
              "    <tr>\n",
              "      <th>...</th>\n",
              "      <td>...</td>\n",
              "      <td>...</td>\n",
              "      <td>...</td>\n",
              "      <td>...</td>\n",
              "      <td>...</td>\n",
              "      <td>...</td>\n",
              "      <td>...</td>\n",
              "      <td>...</td>\n",
              "      <td>...</td>\n",
              "      <td>...</td>\n",
              "      <td>...</td>\n",
              "    </tr>\n",
              "    <tr>\n",
              "      <th>82</th>\n",
              "      <td>Rey</td>\n",
              "      <td>NaN</td>\n",
              "      <td>NaN</td>\n",
              "      <td>brown</td>\n",
              "      <td>light</td>\n",
              "      <td>hazel</td>\n",
              "      <td>NaN</td>\n",
              "      <td>female</td>\n",
              "      <td>NaN</td>\n",
              "      <td>Human</td>\n",
              "      <td>NaN</td>\n",
              "    </tr>\n",
              "    <tr>\n",
              "      <th>83</th>\n",
              "      <td>Poe Dameron</td>\n",
              "      <td>NaN</td>\n",
              "      <td>NaN</td>\n",
              "      <td>brown</td>\n",
              "      <td>light</td>\n",
              "      <td>brown</td>\n",
              "      <td>NaN</td>\n",
              "      <td>male</td>\n",
              "      <td>NaN</td>\n",
              "      <td>Human</td>\n",
              "      <td>NaN</td>\n",
              "    </tr>\n",
              "    <tr>\n",
              "      <th>84</th>\n",
              "      <td>BB8</td>\n",
              "      <td>NaN</td>\n",
              "      <td>NaN</td>\n",
              "      <td>none</td>\n",
              "      <td>none</td>\n",
              "      <td>black</td>\n",
              "      <td>NaN</td>\n",
              "      <td>none</td>\n",
              "      <td>NaN</td>\n",
              "      <td>Droid</td>\n",
              "      <td>NaN</td>\n",
              "    </tr>\n",
              "    <tr>\n",
              "      <th>85</th>\n",
              "      <td>Captain Phasma</td>\n",
              "      <td>NaN</td>\n",
              "      <td>NaN</td>\n",
              "      <td>NaN</td>\n",
              "      <td>NaN</td>\n",
              "      <td>NaN</td>\n",
              "      <td>NaN</td>\n",
              "      <td>female</td>\n",
              "      <td>NaN</td>\n",
              "      <td>NaN</td>\n",
              "      <td>NaN</td>\n",
              "    </tr>\n",
              "    <tr>\n",
              "      <th>86</th>\n",
              "      <td>Padmé Amidala</td>\n",
              "      <td>165.0</td>\n",
              "      <td>45.0</td>\n",
              "      <td>brown</td>\n",
              "      <td>light</td>\n",
              "      <td>brown</td>\n",
              "      <td>46BBY</td>\n",
              "      <td>female</td>\n",
              "      <td>Naboo</td>\n",
              "      <td>Human</td>\n",
              "      <td>16.528926</td>\n",
              "    </tr>\n",
              "  </tbody>\n",
              "</table>\n",
              "<p>87 rows × 11 columns</p>\n",
              "</div>"
            ],
            "text/plain": [
              "              name  height   mass  ... homeworld species        BMI\n",
              "0   Luke Skywalker   172.0   77.0  ...  Tatooine   Human  26.027582\n",
              "1            C-3PO   167.0   75.0  ...  Tatooine   Droid  26.892323\n",
              "2            R2-D2    96.0   32.0  ...     Naboo   Droid  34.722222\n",
              "3      Darth Vader   202.0  136.0  ...  Tatooine   Human  33.330066\n",
              "4      Leia Organa   150.0   49.0  ...  Alderaan   Human  21.777778\n",
              "..             ...     ...    ...  ...       ...     ...        ...\n",
              "82             Rey     NaN    NaN  ...       NaN   Human        NaN\n",
              "83     Poe Dameron     NaN    NaN  ...       NaN   Human        NaN\n",
              "84             BB8     NaN    NaN  ...       NaN   Droid        NaN\n",
              "85  Captain Phasma     NaN    NaN  ...       NaN     NaN        NaN\n",
              "86   Padmé Amidala   165.0   45.0  ...     Naboo   Human  16.528926\n",
              "\n",
              "[87 rows x 11 columns]"
            ]
          },
          "metadata": {
            "tags": []
          },
          "execution_count": 8
        }
      ]
    },
    {
      "cell_type": "code",
      "metadata": {
        "id": "FfX2wfw-JOaR",
        "colab_type": "code",
        "outputId": "1057fb52-f00d-4543-c899-f626b62fb93f",
        "colab": {
          "base_uri": "https://localhost:8080/",
          "height": 402
        }
      },
      "source": [
        "# Assign a new column \"BMI_category\" to Characters table, This new column converts the BMI of each character to the BMI category based on the table listed above.\n",
        "def BMI_cat(row):\n",
        "    if row['species']=='Human':\n",
        "      if 0<row['BMI']<18.5: return 'Underweight'\n",
        "      elif 18.5<=row['BMI']<25: return 'Normal'\n",
        "      elif 25<=row['BMI']<30: return 'Overweight'\n",
        "      elif row['BMI']>=30: return 'Obesity'\n",
        "    else:\n",
        "      return 'NotHuman'\n",
        "Characters=Characters.assign(BMI_category=Characters.apply(BMI_cat, axis=1))\n",
        "Characters"
      ],
      "execution_count": 0,
      "outputs": [
        {
          "output_type": "execute_result",
          "data": {
            "text/html": [
              "<div>\n",
              "<style scoped>\n",
              "    .dataframe tbody tr th:only-of-type {\n",
              "        vertical-align: middle;\n",
              "    }\n",
              "\n",
              "    .dataframe tbody tr th {\n",
              "        vertical-align: top;\n",
              "    }\n",
              "\n",
              "    .dataframe thead th {\n",
              "        text-align: right;\n",
              "    }\n",
              "</style>\n",
              "<table border=\"1\" class=\"dataframe\">\n",
              "  <thead>\n",
              "    <tr style=\"text-align: right;\">\n",
              "      <th></th>\n",
              "      <th>name</th>\n",
              "      <th>height</th>\n",
              "      <th>mass</th>\n",
              "      <th>hair_color</th>\n",
              "      <th>skin_color</th>\n",
              "      <th>eye_color</th>\n",
              "      <th>birth_year</th>\n",
              "      <th>gender</th>\n",
              "      <th>homeworld</th>\n",
              "      <th>species</th>\n",
              "      <th>BMI</th>\n",
              "      <th>BMI_category</th>\n",
              "    </tr>\n",
              "  </thead>\n",
              "  <tbody>\n",
              "    <tr>\n",
              "      <th>0</th>\n",
              "      <td>Luke Skywalker</td>\n",
              "      <td>172.0</td>\n",
              "      <td>77.0</td>\n",
              "      <td>blond</td>\n",
              "      <td>fair</td>\n",
              "      <td>blue</td>\n",
              "      <td>19BBY</td>\n",
              "      <td>male</td>\n",
              "      <td>Tatooine</td>\n",
              "      <td>Human</td>\n",
              "      <td>26.027582</td>\n",
              "      <td>Overweight</td>\n",
              "    </tr>\n",
              "    <tr>\n",
              "      <th>1</th>\n",
              "      <td>C-3PO</td>\n",
              "      <td>167.0</td>\n",
              "      <td>75.0</td>\n",
              "      <td>NaN</td>\n",
              "      <td>gold</td>\n",
              "      <td>yellow</td>\n",
              "      <td>112BBY</td>\n",
              "      <td>NaN</td>\n",
              "      <td>Tatooine</td>\n",
              "      <td>Droid</td>\n",
              "      <td>26.892323</td>\n",
              "      <td>NotHuman</td>\n",
              "    </tr>\n",
              "    <tr>\n",
              "      <th>2</th>\n",
              "      <td>R2-D2</td>\n",
              "      <td>96.0</td>\n",
              "      <td>32.0</td>\n",
              "      <td>NaN</td>\n",
              "      <td>white, blue</td>\n",
              "      <td>red</td>\n",
              "      <td>33BBY</td>\n",
              "      <td>NaN</td>\n",
              "      <td>Naboo</td>\n",
              "      <td>Droid</td>\n",
              "      <td>34.722222</td>\n",
              "      <td>NotHuman</td>\n",
              "    </tr>\n",
              "    <tr>\n",
              "      <th>3</th>\n",
              "      <td>Darth Vader</td>\n",
              "      <td>202.0</td>\n",
              "      <td>136.0</td>\n",
              "      <td>none</td>\n",
              "      <td>white</td>\n",
              "      <td>yellow</td>\n",
              "      <td>41.9BBY</td>\n",
              "      <td>male</td>\n",
              "      <td>Tatooine</td>\n",
              "      <td>Human</td>\n",
              "      <td>33.330066</td>\n",
              "      <td>Obesity</td>\n",
              "    </tr>\n",
              "    <tr>\n",
              "      <th>4</th>\n",
              "      <td>Leia Organa</td>\n",
              "      <td>150.0</td>\n",
              "      <td>49.0</td>\n",
              "      <td>brown</td>\n",
              "      <td>light</td>\n",
              "      <td>brown</td>\n",
              "      <td>19BBY</td>\n",
              "      <td>female</td>\n",
              "      <td>Alderaan</td>\n",
              "      <td>Human</td>\n",
              "      <td>21.777778</td>\n",
              "      <td>Normal</td>\n",
              "    </tr>\n",
              "    <tr>\n",
              "      <th>...</th>\n",
              "      <td>...</td>\n",
              "      <td>...</td>\n",
              "      <td>...</td>\n",
              "      <td>...</td>\n",
              "      <td>...</td>\n",
              "      <td>...</td>\n",
              "      <td>...</td>\n",
              "      <td>...</td>\n",
              "      <td>...</td>\n",
              "      <td>...</td>\n",
              "      <td>...</td>\n",
              "      <td>...</td>\n",
              "    </tr>\n",
              "    <tr>\n",
              "      <th>82</th>\n",
              "      <td>Rey</td>\n",
              "      <td>NaN</td>\n",
              "      <td>NaN</td>\n",
              "      <td>brown</td>\n",
              "      <td>light</td>\n",
              "      <td>hazel</td>\n",
              "      <td>NaN</td>\n",
              "      <td>female</td>\n",
              "      <td>NaN</td>\n",
              "      <td>Human</td>\n",
              "      <td>NaN</td>\n",
              "      <td>None</td>\n",
              "    </tr>\n",
              "    <tr>\n",
              "      <th>83</th>\n",
              "      <td>Poe Dameron</td>\n",
              "      <td>NaN</td>\n",
              "      <td>NaN</td>\n",
              "      <td>brown</td>\n",
              "      <td>light</td>\n",
              "      <td>brown</td>\n",
              "      <td>NaN</td>\n",
              "      <td>male</td>\n",
              "      <td>NaN</td>\n",
              "      <td>Human</td>\n",
              "      <td>NaN</td>\n",
              "      <td>None</td>\n",
              "    </tr>\n",
              "    <tr>\n",
              "      <th>84</th>\n",
              "      <td>BB8</td>\n",
              "      <td>NaN</td>\n",
              "      <td>NaN</td>\n",
              "      <td>none</td>\n",
              "      <td>none</td>\n",
              "      <td>black</td>\n",
              "      <td>NaN</td>\n",
              "      <td>none</td>\n",
              "      <td>NaN</td>\n",
              "      <td>Droid</td>\n",
              "      <td>NaN</td>\n",
              "      <td>NotHuman</td>\n",
              "    </tr>\n",
              "    <tr>\n",
              "      <th>85</th>\n",
              "      <td>Captain Phasma</td>\n",
              "      <td>NaN</td>\n",
              "      <td>NaN</td>\n",
              "      <td>NaN</td>\n",
              "      <td>NaN</td>\n",
              "      <td>NaN</td>\n",
              "      <td>NaN</td>\n",
              "      <td>female</td>\n",
              "      <td>NaN</td>\n",
              "      <td>NaN</td>\n",
              "      <td>NaN</td>\n",
              "      <td>NotHuman</td>\n",
              "    </tr>\n",
              "    <tr>\n",
              "      <th>86</th>\n",
              "      <td>Padmé Amidala</td>\n",
              "      <td>165.0</td>\n",
              "      <td>45.0</td>\n",
              "      <td>brown</td>\n",
              "      <td>light</td>\n",
              "      <td>brown</td>\n",
              "      <td>46BBY</td>\n",
              "      <td>female</td>\n",
              "      <td>Naboo</td>\n",
              "      <td>Human</td>\n",
              "      <td>16.528926</td>\n",
              "      <td>Underweight</td>\n",
              "    </tr>\n",
              "  </tbody>\n",
              "</table>\n",
              "<p>87 rows × 12 columns</p>\n",
              "</div>"
            ],
            "text/plain": [
              "              name  height   mass  ... species        BMI BMI_category\n",
              "0   Luke Skywalker   172.0   77.0  ...   Human  26.027582   Overweight\n",
              "1            C-3PO   167.0   75.0  ...   Droid  26.892323     NotHuman\n",
              "2            R2-D2    96.0   32.0  ...   Droid  34.722222     NotHuman\n",
              "3      Darth Vader   202.0  136.0  ...   Human  33.330066      Obesity\n",
              "4      Leia Organa   150.0   49.0  ...   Human  21.777778       Normal\n",
              "..             ...     ...    ...  ...     ...        ...          ...\n",
              "82             Rey     NaN    NaN  ...   Human        NaN         None\n",
              "83     Poe Dameron     NaN    NaN  ...   Human        NaN         None\n",
              "84             BB8     NaN    NaN  ...   Droid        NaN     NotHuman\n",
              "85  Captain Phasma     NaN    NaN  ...     NaN        NaN     NotHuman\n",
              "86   Padmé Amidala   165.0   45.0  ...   Human  16.528926  Underweight\n",
              "\n",
              "[87 rows x 12 columns]"
            ]
          },
          "metadata": {
            "tags": []
          },
          "execution_count": 16
        }
      ]
    },
    {
      "cell_type": "code",
      "metadata": {
        "id": "asXx9qOwIh1h",
        "colab_type": "code",
        "outputId": "0bec13c9-9d37-4519-bd1c-e790773e75dc",
        "colab": {
          "base_uri": "https://localhost:8080/",
          "height": 225
        }
      },
      "source": [
        "# Report how many characters fall into each of the five BMI categories\n",
        "Characters[[\"BMI\",\"BMI_category\"]].groupby(\"BMI_category\").count()"
      ],
      "execution_count": 0,
      "outputs": [
        {
          "output_type": "execute_result",
          "data": {
            "text/html": [
              "<div>\n",
              "<style scoped>\n",
              "    .dataframe tbody tr th:only-of-type {\n",
              "        vertical-align: middle;\n",
              "    }\n",
              "\n",
              "    .dataframe tbody tr th {\n",
              "        vertical-align: top;\n",
              "    }\n",
              "\n",
              "    .dataframe thead th {\n",
              "        text-align: right;\n",
              "    }\n",
              "</style>\n",
              "<table border=\"1\" class=\"dataframe\">\n",
              "  <thead>\n",
              "    <tr style=\"text-align: right;\">\n",
              "      <th></th>\n",
              "      <th>BMI</th>\n",
              "    </tr>\n",
              "    <tr>\n",
              "      <th>BMI_category</th>\n",
              "      <th></th>\n",
              "    </tr>\n",
              "  </thead>\n",
              "  <tbody>\n",
              "    <tr>\n",
              "      <th>Normal</th>\n",
              "      <td>11</td>\n",
              "    </tr>\n",
              "    <tr>\n",
              "      <th>NotHuman</th>\n",
              "      <td>37</td>\n",
              "    </tr>\n",
              "    <tr>\n",
              "      <th>Obesity</th>\n",
              "      <td>3</td>\n",
              "    </tr>\n",
              "    <tr>\n",
              "      <th>Overweight</th>\n",
              "      <td>7</td>\n",
              "    </tr>\n",
              "    <tr>\n",
              "      <th>Underweight</th>\n",
              "      <td>1</td>\n",
              "    </tr>\n",
              "  </tbody>\n",
              "</table>\n",
              "</div>"
            ],
            "text/plain": [
              "              BMI\n",
              "BMI_category     \n",
              "Normal         11\n",
              "NotHuman       37\n",
              "Obesity         3\n",
              "Overweight      7\n",
              "Underweight     1"
            ]
          },
          "metadata": {
            "tags": []
          },
          "execution_count": 17
        }
      ]
    },
    {
      "cell_type": "code",
      "metadata": {
        "id": "aIzwaP0pJLQ5",
        "colab_type": "code",
        "outputId": "9a5b12c9-7f79-4f3f-bd67-58446185cf8f",
        "colab": {
          "base_uri": "https://localhost:8080/",
          "height": 77
        }
      },
      "source": [
        "# Report the human with the highest BMI and lowest BMI.\n",
        "h=Characters[Characters[\"species\"]==\"Human\"]\n",
        "h[h[\"BMI\"]==h[\"BMI\"].max()]"
      ],
      "execution_count": 0,
      "outputs": [
        {
          "output_type": "execute_result",
          "data": {
            "text/html": [
              "<div>\n",
              "<style scoped>\n",
              "    .dataframe tbody tr th:only-of-type {\n",
              "        vertical-align: middle;\n",
              "    }\n",
              "\n",
              "    .dataframe tbody tr th {\n",
              "        vertical-align: top;\n",
              "    }\n",
              "\n",
              "    .dataframe thead th {\n",
              "        text-align: right;\n",
              "    }\n",
              "</style>\n",
              "<table border=\"1\" class=\"dataframe\">\n",
              "  <thead>\n",
              "    <tr style=\"text-align: right;\">\n",
              "      <th></th>\n",
              "      <th>name</th>\n",
              "      <th>height</th>\n",
              "      <th>mass</th>\n",
              "      <th>hair_color</th>\n",
              "      <th>skin_color</th>\n",
              "      <th>eye_color</th>\n",
              "      <th>birth_year</th>\n",
              "      <th>gender</th>\n",
              "      <th>homeworld</th>\n",
              "      <th>species</th>\n",
              "      <th>BMI</th>\n",
              "      <th>BMI_category</th>\n",
              "    </tr>\n",
              "  </thead>\n",
              "  <tbody>\n",
              "    <tr>\n",
              "      <th>5</th>\n",
              "      <td>Owen Lars</td>\n",
              "      <td>178.0</td>\n",
              "      <td>120.0</td>\n",
              "      <td>brown, grey</td>\n",
              "      <td>light</td>\n",
              "      <td>blue</td>\n",
              "      <td>52BBY</td>\n",
              "      <td>male</td>\n",
              "      <td>Tatooine</td>\n",
              "      <td>Human</td>\n",
              "      <td>37.874006</td>\n",
              "      <td>Obesity</td>\n",
              "    </tr>\n",
              "  </tbody>\n",
              "</table>\n",
              "</div>"
            ],
            "text/plain": [
              "        name  height   mass  ... species        BMI BMI_category\n",
              "5  Owen Lars   178.0  120.0  ...   Human  37.874006      Obesity\n",
              "\n",
              "[1 rows x 12 columns]"
            ]
          },
          "metadata": {
            "tags": []
          },
          "execution_count": 18
        }
      ]
    },
    {
      "cell_type": "code",
      "metadata": {
        "id": "nzhEBLcJKLMM",
        "colab_type": "code",
        "outputId": "3785f9f6-ac02-4d26-9a4a-57c539519b46",
        "colab": {
          "base_uri": "https://localhost:8080/",
          "height": 77
        }
      },
      "source": [
        "h[h[\"BMI\"]==h[\"BMI\"].min()]"
      ],
      "execution_count": 0,
      "outputs": [
        {
          "output_type": "execute_result",
          "data": {
            "text/html": [
              "<div>\n",
              "<style scoped>\n",
              "    .dataframe tbody tr th:only-of-type {\n",
              "        vertical-align: middle;\n",
              "    }\n",
              "\n",
              "    .dataframe tbody tr th {\n",
              "        vertical-align: top;\n",
              "    }\n",
              "\n",
              "    .dataframe thead th {\n",
              "        text-align: right;\n",
              "    }\n",
              "</style>\n",
              "<table border=\"1\" class=\"dataframe\">\n",
              "  <thead>\n",
              "    <tr style=\"text-align: right;\">\n",
              "      <th></th>\n",
              "      <th>name</th>\n",
              "      <th>height</th>\n",
              "      <th>mass</th>\n",
              "      <th>hair_color</th>\n",
              "      <th>skin_color</th>\n",
              "      <th>eye_color</th>\n",
              "      <th>birth_year</th>\n",
              "      <th>gender</th>\n",
              "      <th>homeworld</th>\n",
              "      <th>species</th>\n",
              "      <th>BMI</th>\n",
              "      <th>BMI_category</th>\n",
              "    </tr>\n",
              "  </thead>\n",
              "  <tbody>\n",
              "    <tr>\n",
              "      <th>86</th>\n",
              "      <td>Padmé Amidala</td>\n",
              "      <td>165.0</td>\n",
              "      <td>45.0</td>\n",
              "      <td>brown</td>\n",
              "      <td>light</td>\n",
              "      <td>brown</td>\n",
              "      <td>46BBY</td>\n",
              "      <td>female</td>\n",
              "      <td>Naboo</td>\n",
              "      <td>Human</td>\n",
              "      <td>16.528926</td>\n",
              "      <td>Underweight</td>\n",
              "    </tr>\n",
              "  </tbody>\n",
              "</table>\n",
              "</div>"
            ],
            "text/plain": [
              "             name  height  mass  ... species        BMI BMI_category\n",
              "86  Padmé Amidala   165.0  45.0  ...   Human  16.528926  Underweight\n",
              "\n",
              "[1 rows x 12 columns]"
            ]
          },
          "metadata": {
            "tags": []
          },
          "execution_count": 19
        }
      ]
    },
    {
      "cell_type": "markdown",
      "metadata": {
        "id": "Ny0Hn_JLqaoi",
        "colab_type": "text"
      },
      "source": [
        "### Q3 [10 points]\n",
        "\n",
        "* Left merge **planet** table to **character** table so that each character in the **character** table will include associated planet features.\n",
        "\n",
        "* Among characters living with surface water percentage higher than 50% (no need to consider missing values), what is the average BMI?  \n",
        "\n",
        "* Create a sub-table that includes character names, characters height, character mass, character BMI for those living on a planet with only temperate climate.  \n",
        "\n",
        "* Sort the sub-table based on height values from the smallest to the largest. [hint: search for sort methods]\n",
        "\n",
        "\n",
        "\n",
        "**Make sure to print out the output for each sub-question**"
      ]
    },
    {
      "cell_type": "code",
      "metadata": {
        "id": "XgR2-LOubuUn",
        "colab_type": "code",
        "outputId": "a74b4722-a17c-4728-d2b3-83cd35d288fd",
        "colab": {
          "base_uri": "https://localhost:8080/",
          "height": 657
        }
      },
      "source": [
        "# Left merge planet table to character table so that each character in the character table will include associated planet features.\n",
        "merged=pd.merge(Characters, Planet, how='left', left_on=\"homeworld\", right_on=\"name\").drop(columns=['name_y'])\n",
        "merged"
      ],
      "execution_count": 0,
      "outputs": [
        {
          "output_type": "execute_result",
          "data": {
            "text/html": [
              "<div>\n",
              "<style scoped>\n",
              "    .dataframe tbody tr th:only-of-type {\n",
              "        vertical-align: middle;\n",
              "    }\n",
              "\n",
              "    .dataframe tbody tr th {\n",
              "        vertical-align: top;\n",
              "    }\n",
              "\n",
              "    .dataframe thead th {\n",
              "        text-align: right;\n",
              "    }\n",
              "</style>\n",
              "<table border=\"1\" class=\"dataframe\">\n",
              "  <thead>\n",
              "    <tr style=\"text-align: right;\">\n",
              "      <th></th>\n",
              "      <th>name_x</th>\n",
              "      <th>height</th>\n",
              "      <th>mass</th>\n",
              "      <th>hair_color</th>\n",
              "      <th>skin_color</th>\n",
              "      <th>eye_color</th>\n",
              "      <th>birth_year</th>\n",
              "      <th>gender</th>\n",
              "      <th>homeworld</th>\n",
              "      <th>species</th>\n",
              "      <th>BMI</th>\n",
              "      <th>BMI_category</th>\n",
              "      <th>rotation_period</th>\n",
              "      <th>orbital_period</th>\n",
              "      <th>diameter</th>\n",
              "      <th>climate</th>\n",
              "      <th>gravity</th>\n",
              "      <th>terrain</th>\n",
              "      <th>surface_water</th>\n",
              "      <th>population</th>\n",
              "    </tr>\n",
              "  </thead>\n",
              "  <tbody>\n",
              "    <tr>\n",
              "      <th>0</th>\n",
              "      <td>Luke Skywalker</td>\n",
              "      <td>172.0</td>\n",
              "      <td>77.0</td>\n",
              "      <td>blond</td>\n",
              "      <td>fair</td>\n",
              "      <td>blue</td>\n",
              "      <td>19BBY</td>\n",
              "      <td>male</td>\n",
              "      <td>Tatooine</td>\n",
              "      <td>Human</td>\n",
              "      <td>26.027582</td>\n",
              "      <td>Overweight</td>\n",
              "      <td>23.0</td>\n",
              "      <td>304.0</td>\n",
              "      <td>10465.0</td>\n",
              "      <td>arid</td>\n",
              "      <td>1 standard</td>\n",
              "      <td>desert</td>\n",
              "      <td>1.0</td>\n",
              "      <td>2.000000e+05</td>\n",
              "    </tr>\n",
              "    <tr>\n",
              "      <th>1</th>\n",
              "      <td>C-3PO</td>\n",
              "      <td>167.0</td>\n",
              "      <td>75.0</td>\n",
              "      <td>NaN</td>\n",
              "      <td>gold</td>\n",
              "      <td>yellow</td>\n",
              "      <td>112BBY</td>\n",
              "      <td>NaN</td>\n",
              "      <td>Tatooine</td>\n",
              "      <td>Droid</td>\n",
              "      <td>26.892323</td>\n",
              "      <td>NotHuman</td>\n",
              "      <td>23.0</td>\n",
              "      <td>304.0</td>\n",
              "      <td>10465.0</td>\n",
              "      <td>arid</td>\n",
              "      <td>1 standard</td>\n",
              "      <td>desert</td>\n",
              "      <td>1.0</td>\n",
              "      <td>2.000000e+05</td>\n",
              "    </tr>\n",
              "    <tr>\n",
              "      <th>2</th>\n",
              "      <td>R2-D2</td>\n",
              "      <td>96.0</td>\n",
              "      <td>32.0</td>\n",
              "      <td>NaN</td>\n",
              "      <td>white, blue</td>\n",
              "      <td>red</td>\n",
              "      <td>33BBY</td>\n",
              "      <td>NaN</td>\n",
              "      <td>Naboo</td>\n",
              "      <td>Droid</td>\n",
              "      <td>34.722222</td>\n",
              "      <td>NotHuman</td>\n",
              "      <td>26.0</td>\n",
              "      <td>312.0</td>\n",
              "      <td>12120.0</td>\n",
              "      <td>temperate</td>\n",
              "      <td>1 standard</td>\n",
              "      <td>grassy hills, swamps, forests, mountains</td>\n",
              "      <td>12.0</td>\n",
              "      <td>4.500000e+09</td>\n",
              "    </tr>\n",
              "    <tr>\n",
              "      <th>3</th>\n",
              "      <td>Darth Vader</td>\n",
              "      <td>202.0</td>\n",
              "      <td>136.0</td>\n",
              "      <td>none</td>\n",
              "      <td>white</td>\n",
              "      <td>yellow</td>\n",
              "      <td>41.9BBY</td>\n",
              "      <td>male</td>\n",
              "      <td>Tatooine</td>\n",
              "      <td>Human</td>\n",
              "      <td>33.330066</td>\n",
              "      <td>Obesity</td>\n",
              "      <td>23.0</td>\n",
              "      <td>304.0</td>\n",
              "      <td>10465.0</td>\n",
              "      <td>arid</td>\n",
              "      <td>1 standard</td>\n",
              "      <td>desert</td>\n",
              "      <td>1.0</td>\n",
              "      <td>2.000000e+05</td>\n",
              "    </tr>\n",
              "    <tr>\n",
              "      <th>4</th>\n",
              "      <td>Leia Organa</td>\n",
              "      <td>150.0</td>\n",
              "      <td>49.0</td>\n",
              "      <td>brown</td>\n",
              "      <td>light</td>\n",
              "      <td>brown</td>\n",
              "      <td>19BBY</td>\n",
              "      <td>female</td>\n",
              "      <td>Alderaan</td>\n",
              "      <td>Human</td>\n",
              "      <td>21.777778</td>\n",
              "      <td>Normal</td>\n",
              "      <td>24.0</td>\n",
              "      <td>364.0</td>\n",
              "      <td>12500.0</td>\n",
              "      <td>temperate</td>\n",
              "      <td>1 standard</td>\n",
              "      <td>grasslands, mountains</td>\n",
              "      <td>40.0</td>\n",
              "      <td>2.000000e+09</td>\n",
              "    </tr>\n",
              "    <tr>\n",
              "      <th>...</th>\n",
              "      <td>...</td>\n",
              "      <td>...</td>\n",
              "      <td>...</td>\n",
              "      <td>...</td>\n",
              "      <td>...</td>\n",
              "      <td>...</td>\n",
              "      <td>...</td>\n",
              "      <td>...</td>\n",
              "      <td>...</td>\n",
              "      <td>...</td>\n",
              "      <td>...</td>\n",
              "      <td>...</td>\n",
              "      <td>...</td>\n",
              "      <td>...</td>\n",
              "      <td>...</td>\n",
              "      <td>...</td>\n",
              "      <td>...</td>\n",
              "      <td>...</td>\n",
              "      <td>...</td>\n",
              "      <td>...</td>\n",
              "    </tr>\n",
              "    <tr>\n",
              "      <th>82</th>\n",
              "      <td>Rey</td>\n",
              "      <td>NaN</td>\n",
              "      <td>NaN</td>\n",
              "      <td>brown</td>\n",
              "      <td>light</td>\n",
              "      <td>hazel</td>\n",
              "      <td>NaN</td>\n",
              "      <td>female</td>\n",
              "      <td>NaN</td>\n",
              "      <td>Human</td>\n",
              "      <td>NaN</td>\n",
              "      <td>None</td>\n",
              "      <td>0.0</td>\n",
              "      <td>0.0</td>\n",
              "      <td>0.0</td>\n",
              "      <td>NaN</td>\n",
              "      <td>NaN</td>\n",
              "      <td>NaN</td>\n",
              "      <td>NaN</td>\n",
              "      <td>NaN</td>\n",
              "    </tr>\n",
              "    <tr>\n",
              "      <th>83</th>\n",
              "      <td>Poe Dameron</td>\n",
              "      <td>NaN</td>\n",
              "      <td>NaN</td>\n",
              "      <td>brown</td>\n",
              "      <td>light</td>\n",
              "      <td>brown</td>\n",
              "      <td>NaN</td>\n",
              "      <td>male</td>\n",
              "      <td>NaN</td>\n",
              "      <td>Human</td>\n",
              "      <td>NaN</td>\n",
              "      <td>None</td>\n",
              "      <td>0.0</td>\n",
              "      <td>0.0</td>\n",
              "      <td>0.0</td>\n",
              "      <td>NaN</td>\n",
              "      <td>NaN</td>\n",
              "      <td>NaN</td>\n",
              "      <td>NaN</td>\n",
              "      <td>NaN</td>\n",
              "    </tr>\n",
              "    <tr>\n",
              "      <th>84</th>\n",
              "      <td>BB8</td>\n",
              "      <td>NaN</td>\n",
              "      <td>NaN</td>\n",
              "      <td>none</td>\n",
              "      <td>none</td>\n",
              "      <td>black</td>\n",
              "      <td>NaN</td>\n",
              "      <td>none</td>\n",
              "      <td>NaN</td>\n",
              "      <td>Droid</td>\n",
              "      <td>NaN</td>\n",
              "      <td>NotHuman</td>\n",
              "      <td>0.0</td>\n",
              "      <td>0.0</td>\n",
              "      <td>0.0</td>\n",
              "      <td>NaN</td>\n",
              "      <td>NaN</td>\n",
              "      <td>NaN</td>\n",
              "      <td>NaN</td>\n",
              "      <td>NaN</td>\n",
              "    </tr>\n",
              "    <tr>\n",
              "      <th>85</th>\n",
              "      <td>Captain Phasma</td>\n",
              "      <td>NaN</td>\n",
              "      <td>NaN</td>\n",
              "      <td>NaN</td>\n",
              "      <td>NaN</td>\n",
              "      <td>NaN</td>\n",
              "      <td>NaN</td>\n",
              "      <td>female</td>\n",
              "      <td>NaN</td>\n",
              "      <td>NaN</td>\n",
              "      <td>NaN</td>\n",
              "      <td>NotHuman</td>\n",
              "      <td>0.0</td>\n",
              "      <td>0.0</td>\n",
              "      <td>0.0</td>\n",
              "      <td>NaN</td>\n",
              "      <td>NaN</td>\n",
              "      <td>NaN</td>\n",
              "      <td>NaN</td>\n",
              "      <td>NaN</td>\n",
              "    </tr>\n",
              "    <tr>\n",
              "      <th>86</th>\n",
              "      <td>Padmé Amidala</td>\n",
              "      <td>165.0</td>\n",
              "      <td>45.0</td>\n",
              "      <td>brown</td>\n",
              "      <td>light</td>\n",
              "      <td>brown</td>\n",
              "      <td>46BBY</td>\n",
              "      <td>female</td>\n",
              "      <td>Naboo</td>\n",
              "      <td>Human</td>\n",
              "      <td>16.528926</td>\n",
              "      <td>Underweight</td>\n",
              "      <td>26.0</td>\n",
              "      <td>312.0</td>\n",
              "      <td>12120.0</td>\n",
              "      <td>temperate</td>\n",
              "      <td>1 standard</td>\n",
              "      <td>grassy hills, swamps, forests, mountains</td>\n",
              "      <td>12.0</td>\n",
              "      <td>4.500000e+09</td>\n",
              "    </tr>\n",
              "  </tbody>\n",
              "</table>\n",
              "<p>87 rows × 20 columns</p>\n",
              "</div>"
            ],
            "text/plain": [
              "            name_x  height  ...  surface_water    population\n",
              "0   Luke Skywalker   172.0  ...            1.0  2.000000e+05\n",
              "1            C-3PO   167.0  ...            1.0  2.000000e+05\n",
              "2            R2-D2    96.0  ...           12.0  4.500000e+09\n",
              "3      Darth Vader   202.0  ...            1.0  2.000000e+05\n",
              "4      Leia Organa   150.0  ...           40.0  2.000000e+09\n",
              "..             ...     ...  ...            ...           ...\n",
              "82             Rey     NaN  ...            NaN           NaN\n",
              "83     Poe Dameron     NaN  ...            NaN           NaN\n",
              "84             BB8     NaN  ...            NaN           NaN\n",
              "85  Captain Phasma     NaN  ...            NaN           NaN\n",
              "86   Padmé Amidala   165.0  ...           12.0  4.500000e+09\n",
              "\n",
              "[87 rows x 20 columns]"
            ]
          },
          "metadata": {
            "tags": []
          },
          "execution_count": 20
        }
      ]
    },
    {
      "cell_type": "code",
      "metadata": {
        "id": "tbbmUxooL-U1",
        "colab_type": "code",
        "outputId": "9c080e15-18d7-4d1f-ef5e-76a14f642dcd",
        "colab": {
          "base_uri": "https://localhost:8080/",
          "height": 34
        }
      },
      "source": [
        "# Among characters living with surface water percentage higher than 50% (no need to consider missing values), what is the average BMI?\n",
        "np.average(merged[(merged[\"surface_water\"]>50) & (merged[\"BMI\"].notna())][\"BMI\"])"
      ],
      "execution_count": 0,
      "outputs": [
        {
          "output_type": "execute_result",
          "data": {
            "text/plain": [
              "24.61880669637577"
            ]
          },
          "metadata": {
            "tags": []
          },
          "execution_count": 21
        }
      ]
    },
    {
      "cell_type": "code",
      "metadata": {
        "id": "lmTelMY_OHxz",
        "colab_type": "code",
        "outputId": "500213aa-c889-420d-af2d-a7d9dbc9a458",
        "colab": {
          "base_uri": "https://localhost:8080/",
          "height": 1000
        }
      },
      "source": [
        "# Create a sub-table that includes character names, characters height, character mass, character BMI for those living on a planet with only temperate climate.\n",
        "temp=merged[[\"name_x\",\"height\", \"mass\", \"BMI\"]][merged[\"climate\"]==\"temperate\"]\n",
        "temp"
      ],
      "execution_count": 0,
      "outputs": [
        {
          "output_type": "execute_result",
          "data": {
            "text/html": [
              "<div>\n",
              "<style scoped>\n",
              "    .dataframe tbody tr th:only-of-type {\n",
              "        vertical-align: middle;\n",
              "    }\n",
              "\n",
              "    .dataframe tbody tr th {\n",
              "        vertical-align: top;\n",
              "    }\n",
              "\n",
              "    .dataframe thead th {\n",
              "        text-align: right;\n",
              "    }\n",
              "</style>\n",
              "<table border=\"1\" class=\"dataframe\">\n",
              "  <thead>\n",
              "    <tr style=\"text-align: right;\">\n",
              "      <th></th>\n",
              "      <th>name_x</th>\n",
              "      <th>height</th>\n",
              "      <th>mass</th>\n",
              "      <th>BMI</th>\n",
              "    </tr>\n",
              "  </thead>\n",
              "  <tbody>\n",
              "    <tr>\n",
              "      <th>2</th>\n",
              "      <td>R2-D2</td>\n",
              "      <td>96.0</td>\n",
              "      <td>32.0</td>\n",
              "      <td>34.722222</td>\n",
              "    </tr>\n",
              "    <tr>\n",
              "      <th>4</th>\n",
              "      <td>Leia Organa</td>\n",
              "      <td>150.0</td>\n",
              "      <td>49.0</td>\n",
              "      <td>21.777778</td>\n",
              "    </tr>\n",
              "    <tr>\n",
              "      <th>9</th>\n",
              "      <td>Obi-Wan Kenobi</td>\n",
              "      <td>182.0</td>\n",
              "      <td>77.0</td>\n",
              "      <td>23.245985</td>\n",
              "    </tr>\n",
              "    <tr>\n",
              "      <th>13</th>\n",
              "      <td>Han Solo</td>\n",
              "      <td>180.0</td>\n",
              "      <td>80.0</td>\n",
              "      <td>24.691358</td>\n",
              "    </tr>\n",
              "    <tr>\n",
              "      <th>15</th>\n",
              "      <td>Jabba Desilijic Tiure</td>\n",
              "      <td>175.0</td>\n",
              "      <td>1358.0</td>\n",
              "      <td>443.428571</td>\n",
              "    </tr>\n",
              "    <tr>\n",
              "      <th>16</th>\n",
              "      <td>Wedge Antilles</td>\n",
              "      <td>170.0</td>\n",
              "      <td>77.0</td>\n",
              "      <td>26.643599</td>\n",
              "    </tr>\n",
              "    <tr>\n",
              "      <th>17</th>\n",
              "      <td>Jek Tono Porkins</td>\n",
              "      <td>180.0</td>\n",
              "      <td>110.0</td>\n",
              "      <td>33.950617</td>\n",
              "    </tr>\n",
              "    <tr>\n",
              "      <th>19</th>\n",
              "      <td>Palpatine</td>\n",
              "      <td>170.0</td>\n",
              "      <td>75.0</td>\n",
              "      <td>25.951557</td>\n",
              "    </tr>\n",
              "    <tr>\n",
              "      <th>20</th>\n",
              "      <td>Boba Fett</td>\n",
              "      <td>183.0</td>\n",
              "      <td>78.2</td>\n",
              "      <td>23.350951</td>\n",
              "    </tr>\n",
              "    <tr>\n",
              "      <th>24</th>\n",
              "      <td>Lobot</td>\n",
              "      <td>175.0</td>\n",
              "      <td>79.0</td>\n",
              "      <td>25.795918</td>\n",
              "    </tr>\n",
              "    <tr>\n",
              "      <th>25</th>\n",
              "      <td>Ackbar</td>\n",
              "      <td>180.0</td>\n",
              "      <td>83.0</td>\n",
              "      <td>25.617284</td>\n",
              "    </tr>\n",
              "    <tr>\n",
              "      <th>26</th>\n",
              "      <td>Mon Mothma</td>\n",
              "      <td>150.0</td>\n",
              "      <td>NaN</td>\n",
              "      <td>NaN</td>\n",
              "    </tr>\n",
              "    <tr>\n",
              "      <th>28</th>\n",
              "      <td>Wicket Systri Warrick</td>\n",
              "      <td>88.0</td>\n",
              "      <td>20.0</td>\n",
              "      <td>25.826446</td>\n",
              "    </tr>\n",
              "    <tr>\n",
              "      <th>32</th>\n",
              "      <td>Finis Valorum</td>\n",
              "      <td>170.0</td>\n",
              "      <td>NaN</td>\n",
              "      <td>NaN</td>\n",
              "    </tr>\n",
              "    <tr>\n",
              "      <th>33</th>\n",
              "      <td>Jar Jar Binks</td>\n",
              "      <td>196.0</td>\n",
              "      <td>66.0</td>\n",
              "      <td>17.180342</td>\n",
              "    </tr>\n",
              "    <tr>\n",
              "      <th>34</th>\n",
              "      <td>Roos Tarpals</td>\n",
              "      <td>224.0</td>\n",
              "      <td>82.0</td>\n",
              "      <td>16.342474</td>\n",
              "    </tr>\n",
              "    <tr>\n",
              "      <th>35</th>\n",
              "      <td>Rugor Nass</td>\n",
              "      <td>206.0</td>\n",
              "      <td>NaN</td>\n",
              "      <td>NaN</td>\n",
              "    </tr>\n",
              "    <tr>\n",
              "      <th>36</th>\n",
              "      <td>Ric Olié</td>\n",
              "      <td>183.0</td>\n",
              "      <td>NaN</td>\n",
              "      <td>NaN</td>\n",
              "    </tr>\n",
              "    <tr>\n",
              "      <th>37</th>\n",
              "      <td>Watto</td>\n",
              "      <td>137.0</td>\n",
              "      <td>NaN</td>\n",
              "      <td>NaN</td>\n",
              "    </tr>\n",
              "    <tr>\n",
              "      <th>39</th>\n",
              "      <td>Quarsh Panaka</td>\n",
              "      <td>183.0</td>\n",
              "      <td>NaN</td>\n",
              "      <td>NaN</td>\n",
              "    </tr>\n",
              "    <tr>\n",
              "      <th>41</th>\n",
              "      <td>Darth Maul</td>\n",
              "      <td>175.0</td>\n",
              "      <td>80.0</td>\n",
              "      <td>26.122449</td>\n",
              "    </tr>\n",
              "    <tr>\n",
              "      <th>47</th>\n",
              "      <td>Mace Windu</td>\n",
              "      <td>188.0</td>\n",
              "      <td>84.0</td>\n",
              "      <td>23.766410</td>\n",
              "    </tr>\n",
              "    <tr>\n",
              "      <th>48</th>\n",
              "      <td>Ki-Adi-Mundi</td>\n",
              "      <td>198.0</td>\n",
              "      <td>82.0</td>\n",
              "      <td>20.916233</td>\n",
              "    </tr>\n",
              "    <tr>\n",
              "      <th>51</th>\n",
              "      <td>Adi Gallia</td>\n",
              "      <td>184.0</td>\n",
              "      <td>50.0</td>\n",
              "      <td>14.768431</td>\n",
              "    </tr>\n",
              "    <tr>\n",
              "      <th>54</th>\n",
              "      <td>Plo Koon</td>\n",
              "      <td>188.0</td>\n",
              "      <td>80.0</td>\n",
              "      <td>22.634676</td>\n",
              "    </tr>\n",
              "    <tr>\n",
              "      <th>55</th>\n",
              "      <td>Mas Amedda</td>\n",
              "      <td>196.0</td>\n",
              "      <td>NaN</td>\n",
              "      <td>NaN</td>\n",
              "    </tr>\n",
              "    <tr>\n",
              "      <th>56</th>\n",
              "      <td>Gregar Typho</td>\n",
              "      <td>185.0</td>\n",
              "      <td>85.0</td>\n",
              "      <td>24.835646</td>\n",
              "    </tr>\n",
              "    <tr>\n",
              "      <th>57</th>\n",
              "      <td>Cordé</td>\n",
              "      <td>157.0</td>\n",
              "      <td>NaN</td>\n",
              "      <td>NaN</td>\n",
              "    </tr>\n",
              "    <tr>\n",
              "      <th>62</th>\n",
              "      <td>Dormé</td>\n",
              "      <td>165.0</td>\n",
              "      <td>NaN</td>\n",
              "      <td>NaN</td>\n",
              "    </tr>\n",
              "    <tr>\n",
              "      <th>64</th>\n",
              "      <td>Bail Prestor Organa</td>\n",
              "      <td>191.0</td>\n",
              "      <td>NaN</td>\n",
              "      <td>NaN</td>\n",
              "    </tr>\n",
              "    <tr>\n",
              "      <th>68</th>\n",
              "      <td>Lama Su</td>\n",
              "      <td>229.0</td>\n",
              "      <td>88.0</td>\n",
              "      <td>16.780763</td>\n",
              "    </tr>\n",
              "    <tr>\n",
              "      <th>69</th>\n",
              "      <td>Taun We</td>\n",
              "      <td>213.0</td>\n",
              "      <td>NaN</td>\n",
              "      <td>NaN</td>\n",
              "    </tr>\n",
              "    <tr>\n",
              "      <th>70</th>\n",
              "      <td>Jocasta Nu</td>\n",
              "      <td>167.0</td>\n",
              "      <td>NaN</td>\n",
              "      <td>NaN</td>\n",
              "    </tr>\n",
              "    <tr>\n",
              "      <th>73</th>\n",
              "      <td>Wat Tambor</td>\n",
              "      <td>193.0</td>\n",
              "      <td>48.0</td>\n",
              "      <td>12.886252</td>\n",
              "    </tr>\n",
              "    <tr>\n",
              "      <th>74</th>\n",
              "      <td>San Hill</td>\n",
              "      <td>191.0</td>\n",
              "      <td>NaN</td>\n",
              "      <td>NaN</td>\n",
              "    </tr>\n",
              "    <tr>\n",
              "      <th>75</th>\n",
              "      <td>Shaak Ti</td>\n",
              "      <td>178.0</td>\n",
              "      <td>57.0</td>\n",
              "      <td>17.990153</td>\n",
              "    </tr>\n",
              "    <tr>\n",
              "      <th>78</th>\n",
              "      <td>Raymus Antilles</td>\n",
              "      <td>188.0</td>\n",
              "      <td>79.0</td>\n",
              "      <td>22.351743</td>\n",
              "    </tr>\n",
              "    <tr>\n",
              "      <th>86</th>\n",
              "      <td>Padmé Amidala</td>\n",
              "      <td>165.0</td>\n",
              "      <td>45.0</td>\n",
              "      <td>16.528926</td>\n",
              "    </tr>\n",
              "  </tbody>\n",
              "</table>\n",
              "</div>"
            ],
            "text/plain": [
              "                   name_x  height    mass         BMI\n",
              "2                   R2-D2    96.0    32.0   34.722222\n",
              "4             Leia Organa   150.0    49.0   21.777778\n",
              "9          Obi-Wan Kenobi   182.0    77.0   23.245985\n",
              "13               Han Solo   180.0    80.0   24.691358\n",
              "15  Jabba Desilijic Tiure   175.0  1358.0  443.428571\n",
              "16         Wedge Antilles   170.0    77.0   26.643599\n",
              "17       Jek Tono Porkins   180.0   110.0   33.950617\n",
              "19              Palpatine   170.0    75.0   25.951557\n",
              "20              Boba Fett   183.0    78.2   23.350951\n",
              "24                  Lobot   175.0    79.0   25.795918\n",
              "25                 Ackbar   180.0    83.0   25.617284\n",
              "26             Mon Mothma   150.0     NaN         NaN\n",
              "28  Wicket Systri Warrick    88.0    20.0   25.826446\n",
              "32          Finis Valorum   170.0     NaN         NaN\n",
              "33          Jar Jar Binks   196.0    66.0   17.180342\n",
              "34           Roos Tarpals   224.0    82.0   16.342474\n",
              "35             Rugor Nass   206.0     NaN         NaN\n",
              "36               Ric Olié   183.0     NaN         NaN\n",
              "37                  Watto   137.0     NaN         NaN\n",
              "39          Quarsh Panaka   183.0     NaN         NaN\n",
              "41             Darth Maul   175.0    80.0   26.122449\n",
              "47             Mace Windu   188.0    84.0   23.766410\n",
              "48           Ki-Adi-Mundi   198.0    82.0   20.916233\n",
              "51             Adi Gallia   184.0    50.0   14.768431\n",
              "54               Plo Koon   188.0    80.0   22.634676\n",
              "55             Mas Amedda   196.0     NaN         NaN\n",
              "56           Gregar Typho   185.0    85.0   24.835646\n",
              "57                  Cordé   157.0     NaN         NaN\n",
              "62                  Dormé   165.0     NaN         NaN\n",
              "64    Bail Prestor Organa   191.0     NaN         NaN\n",
              "68                Lama Su   229.0    88.0   16.780763\n",
              "69                Taun We   213.0     NaN         NaN\n",
              "70             Jocasta Nu   167.0     NaN         NaN\n",
              "73             Wat Tambor   193.0    48.0   12.886252\n",
              "74               San Hill   191.0     NaN         NaN\n",
              "75               Shaak Ti   178.0    57.0   17.990153\n",
              "78        Raymus Antilles   188.0    79.0   22.351743\n",
              "86          Padmé Amidala   165.0    45.0   16.528926"
            ]
          },
          "metadata": {
            "tags": []
          },
          "execution_count": 22
        }
      ]
    },
    {
      "cell_type": "code",
      "metadata": {
        "id": "C8-jM3aLPY3p",
        "colab_type": "code",
        "outputId": "4538acd2-6304-421d-a18c-da1c8efb1656",
        "colab": {
          "base_uri": "https://localhost:8080/",
          "height": 1000
        }
      },
      "source": [
        "# Sort the sub-table based on height values from the smallest to the largest. [hint: search for sort methods]\n",
        "temp.sort_values(by=[\"height\"])"
      ],
      "execution_count": 0,
      "outputs": [
        {
          "output_type": "execute_result",
          "data": {
            "text/html": [
              "<div>\n",
              "<style scoped>\n",
              "    .dataframe tbody tr th:only-of-type {\n",
              "        vertical-align: middle;\n",
              "    }\n",
              "\n",
              "    .dataframe tbody tr th {\n",
              "        vertical-align: top;\n",
              "    }\n",
              "\n",
              "    .dataframe thead th {\n",
              "        text-align: right;\n",
              "    }\n",
              "</style>\n",
              "<table border=\"1\" class=\"dataframe\">\n",
              "  <thead>\n",
              "    <tr style=\"text-align: right;\">\n",
              "      <th></th>\n",
              "      <th>name_x</th>\n",
              "      <th>height</th>\n",
              "      <th>mass</th>\n",
              "      <th>BMI</th>\n",
              "    </tr>\n",
              "  </thead>\n",
              "  <tbody>\n",
              "    <tr>\n",
              "      <th>28</th>\n",
              "      <td>Wicket Systri Warrick</td>\n",
              "      <td>88.0</td>\n",
              "      <td>20.0</td>\n",
              "      <td>25.826446</td>\n",
              "    </tr>\n",
              "    <tr>\n",
              "      <th>2</th>\n",
              "      <td>R2-D2</td>\n",
              "      <td>96.0</td>\n",
              "      <td>32.0</td>\n",
              "      <td>34.722222</td>\n",
              "    </tr>\n",
              "    <tr>\n",
              "      <th>37</th>\n",
              "      <td>Watto</td>\n",
              "      <td>137.0</td>\n",
              "      <td>NaN</td>\n",
              "      <td>NaN</td>\n",
              "    </tr>\n",
              "    <tr>\n",
              "      <th>4</th>\n",
              "      <td>Leia Organa</td>\n",
              "      <td>150.0</td>\n",
              "      <td>49.0</td>\n",
              "      <td>21.777778</td>\n",
              "    </tr>\n",
              "    <tr>\n",
              "      <th>26</th>\n",
              "      <td>Mon Mothma</td>\n",
              "      <td>150.0</td>\n",
              "      <td>NaN</td>\n",
              "      <td>NaN</td>\n",
              "    </tr>\n",
              "    <tr>\n",
              "      <th>57</th>\n",
              "      <td>Cordé</td>\n",
              "      <td>157.0</td>\n",
              "      <td>NaN</td>\n",
              "      <td>NaN</td>\n",
              "    </tr>\n",
              "    <tr>\n",
              "      <th>86</th>\n",
              "      <td>Padmé Amidala</td>\n",
              "      <td>165.0</td>\n",
              "      <td>45.0</td>\n",
              "      <td>16.528926</td>\n",
              "    </tr>\n",
              "    <tr>\n",
              "      <th>62</th>\n",
              "      <td>Dormé</td>\n",
              "      <td>165.0</td>\n",
              "      <td>NaN</td>\n",
              "      <td>NaN</td>\n",
              "    </tr>\n",
              "    <tr>\n",
              "      <th>70</th>\n",
              "      <td>Jocasta Nu</td>\n",
              "      <td>167.0</td>\n",
              "      <td>NaN</td>\n",
              "      <td>NaN</td>\n",
              "    </tr>\n",
              "    <tr>\n",
              "      <th>16</th>\n",
              "      <td>Wedge Antilles</td>\n",
              "      <td>170.0</td>\n",
              "      <td>77.0</td>\n",
              "      <td>26.643599</td>\n",
              "    </tr>\n",
              "    <tr>\n",
              "      <th>19</th>\n",
              "      <td>Palpatine</td>\n",
              "      <td>170.0</td>\n",
              "      <td>75.0</td>\n",
              "      <td>25.951557</td>\n",
              "    </tr>\n",
              "    <tr>\n",
              "      <th>32</th>\n",
              "      <td>Finis Valorum</td>\n",
              "      <td>170.0</td>\n",
              "      <td>NaN</td>\n",
              "      <td>NaN</td>\n",
              "    </tr>\n",
              "    <tr>\n",
              "      <th>41</th>\n",
              "      <td>Darth Maul</td>\n",
              "      <td>175.0</td>\n",
              "      <td>80.0</td>\n",
              "      <td>26.122449</td>\n",
              "    </tr>\n",
              "    <tr>\n",
              "      <th>24</th>\n",
              "      <td>Lobot</td>\n",
              "      <td>175.0</td>\n",
              "      <td>79.0</td>\n",
              "      <td>25.795918</td>\n",
              "    </tr>\n",
              "    <tr>\n",
              "      <th>15</th>\n",
              "      <td>Jabba Desilijic Tiure</td>\n",
              "      <td>175.0</td>\n",
              "      <td>1358.0</td>\n",
              "      <td>443.428571</td>\n",
              "    </tr>\n",
              "    <tr>\n",
              "      <th>75</th>\n",
              "      <td>Shaak Ti</td>\n",
              "      <td>178.0</td>\n",
              "      <td>57.0</td>\n",
              "      <td>17.990153</td>\n",
              "    </tr>\n",
              "    <tr>\n",
              "      <th>17</th>\n",
              "      <td>Jek Tono Porkins</td>\n",
              "      <td>180.0</td>\n",
              "      <td>110.0</td>\n",
              "      <td>33.950617</td>\n",
              "    </tr>\n",
              "    <tr>\n",
              "      <th>25</th>\n",
              "      <td>Ackbar</td>\n",
              "      <td>180.0</td>\n",
              "      <td>83.0</td>\n",
              "      <td>25.617284</td>\n",
              "    </tr>\n",
              "    <tr>\n",
              "      <th>13</th>\n",
              "      <td>Han Solo</td>\n",
              "      <td>180.0</td>\n",
              "      <td>80.0</td>\n",
              "      <td>24.691358</td>\n",
              "    </tr>\n",
              "    <tr>\n",
              "      <th>9</th>\n",
              "      <td>Obi-Wan Kenobi</td>\n",
              "      <td>182.0</td>\n",
              "      <td>77.0</td>\n",
              "      <td>23.245985</td>\n",
              "    </tr>\n",
              "    <tr>\n",
              "      <th>39</th>\n",
              "      <td>Quarsh Panaka</td>\n",
              "      <td>183.0</td>\n",
              "      <td>NaN</td>\n",
              "      <td>NaN</td>\n",
              "    </tr>\n",
              "    <tr>\n",
              "      <th>36</th>\n",
              "      <td>Ric Olié</td>\n",
              "      <td>183.0</td>\n",
              "      <td>NaN</td>\n",
              "      <td>NaN</td>\n",
              "    </tr>\n",
              "    <tr>\n",
              "      <th>20</th>\n",
              "      <td>Boba Fett</td>\n",
              "      <td>183.0</td>\n",
              "      <td>78.2</td>\n",
              "      <td>23.350951</td>\n",
              "    </tr>\n",
              "    <tr>\n",
              "      <th>51</th>\n",
              "      <td>Adi Gallia</td>\n",
              "      <td>184.0</td>\n",
              "      <td>50.0</td>\n",
              "      <td>14.768431</td>\n",
              "    </tr>\n",
              "    <tr>\n",
              "      <th>56</th>\n",
              "      <td>Gregar Typho</td>\n",
              "      <td>185.0</td>\n",
              "      <td>85.0</td>\n",
              "      <td>24.835646</td>\n",
              "    </tr>\n",
              "    <tr>\n",
              "      <th>47</th>\n",
              "      <td>Mace Windu</td>\n",
              "      <td>188.0</td>\n",
              "      <td>84.0</td>\n",
              "      <td>23.766410</td>\n",
              "    </tr>\n",
              "    <tr>\n",
              "      <th>54</th>\n",
              "      <td>Plo Koon</td>\n",
              "      <td>188.0</td>\n",
              "      <td>80.0</td>\n",
              "      <td>22.634676</td>\n",
              "    </tr>\n",
              "    <tr>\n",
              "      <th>78</th>\n",
              "      <td>Raymus Antilles</td>\n",
              "      <td>188.0</td>\n",
              "      <td>79.0</td>\n",
              "      <td>22.351743</td>\n",
              "    </tr>\n",
              "    <tr>\n",
              "      <th>64</th>\n",
              "      <td>Bail Prestor Organa</td>\n",
              "      <td>191.0</td>\n",
              "      <td>NaN</td>\n",
              "      <td>NaN</td>\n",
              "    </tr>\n",
              "    <tr>\n",
              "      <th>74</th>\n",
              "      <td>San Hill</td>\n",
              "      <td>191.0</td>\n",
              "      <td>NaN</td>\n",
              "      <td>NaN</td>\n",
              "    </tr>\n",
              "    <tr>\n",
              "      <th>73</th>\n",
              "      <td>Wat Tambor</td>\n",
              "      <td>193.0</td>\n",
              "      <td>48.0</td>\n",
              "      <td>12.886252</td>\n",
              "    </tr>\n",
              "    <tr>\n",
              "      <th>33</th>\n",
              "      <td>Jar Jar Binks</td>\n",
              "      <td>196.0</td>\n",
              "      <td>66.0</td>\n",
              "      <td>17.180342</td>\n",
              "    </tr>\n",
              "    <tr>\n",
              "      <th>55</th>\n",
              "      <td>Mas Amedda</td>\n",
              "      <td>196.0</td>\n",
              "      <td>NaN</td>\n",
              "      <td>NaN</td>\n",
              "    </tr>\n",
              "    <tr>\n",
              "      <th>48</th>\n",
              "      <td>Ki-Adi-Mundi</td>\n",
              "      <td>198.0</td>\n",
              "      <td>82.0</td>\n",
              "      <td>20.916233</td>\n",
              "    </tr>\n",
              "    <tr>\n",
              "      <th>35</th>\n",
              "      <td>Rugor Nass</td>\n",
              "      <td>206.0</td>\n",
              "      <td>NaN</td>\n",
              "      <td>NaN</td>\n",
              "    </tr>\n",
              "    <tr>\n",
              "      <th>69</th>\n",
              "      <td>Taun We</td>\n",
              "      <td>213.0</td>\n",
              "      <td>NaN</td>\n",
              "      <td>NaN</td>\n",
              "    </tr>\n",
              "    <tr>\n",
              "      <th>34</th>\n",
              "      <td>Roos Tarpals</td>\n",
              "      <td>224.0</td>\n",
              "      <td>82.0</td>\n",
              "      <td>16.342474</td>\n",
              "    </tr>\n",
              "    <tr>\n",
              "      <th>68</th>\n",
              "      <td>Lama Su</td>\n",
              "      <td>229.0</td>\n",
              "      <td>88.0</td>\n",
              "      <td>16.780763</td>\n",
              "    </tr>\n",
              "  </tbody>\n",
              "</table>\n",
              "</div>"
            ],
            "text/plain": [
              "                   name_x  height    mass         BMI\n",
              "28  Wicket Systri Warrick    88.0    20.0   25.826446\n",
              "2                   R2-D2    96.0    32.0   34.722222\n",
              "37                  Watto   137.0     NaN         NaN\n",
              "4             Leia Organa   150.0    49.0   21.777778\n",
              "26             Mon Mothma   150.0     NaN         NaN\n",
              "57                  Cordé   157.0     NaN         NaN\n",
              "86          Padmé Amidala   165.0    45.0   16.528926\n",
              "62                  Dormé   165.0     NaN         NaN\n",
              "70             Jocasta Nu   167.0     NaN         NaN\n",
              "16         Wedge Antilles   170.0    77.0   26.643599\n",
              "19              Palpatine   170.0    75.0   25.951557\n",
              "32          Finis Valorum   170.0     NaN         NaN\n",
              "41             Darth Maul   175.0    80.0   26.122449\n",
              "24                  Lobot   175.0    79.0   25.795918\n",
              "15  Jabba Desilijic Tiure   175.0  1358.0  443.428571\n",
              "75               Shaak Ti   178.0    57.0   17.990153\n",
              "17       Jek Tono Porkins   180.0   110.0   33.950617\n",
              "25                 Ackbar   180.0    83.0   25.617284\n",
              "13               Han Solo   180.0    80.0   24.691358\n",
              "9          Obi-Wan Kenobi   182.0    77.0   23.245985\n",
              "39          Quarsh Panaka   183.0     NaN         NaN\n",
              "36               Ric Olié   183.0     NaN         NaN\n",
              "20              Boba Fett   183.0    78.2   23.350951\n",
              "51             Adi Gallia   184.0    50.0   14.768431\n",
              "56           Gregar Typho   185.0    85.0   24.835646\n",
              "47             Mace Windu   188.0    84.0   23.766410\n",
              "54               Plo Koon   188.0    80.0   22.634676\n",
              "78        Raymus Antilles   188.0    79.0   22.351743\n",
              "64    Bail Prestor Organa   191.0     NaN         NaN\n",
              "74               San Hill   191.0     NaN         NaN\n",
              "73             Wat Tambor   193.0    48.0   12.886252\n",
              "33          Jar Jar Binks   196.0    66.0   17.180342\n",
              "55             Mas Amedda   196.0     NaN         NaN\n",
              "48           Ki-Adi-Mundi   198.0    82.0   20.916233\n",
              "35             Rugor Nass   206.0     NaN         NaN\n",
              "69                Taun We   213.0     NaN         NaN\n",
              "34           Roos Tarpals   224.0    82.0   16.342474\n",
              "68                Lama Su   229.0    88.0   16.780763"
            ]
          },
          "metadata": {
            "tags": []
          },
          "execution_count": 24
        }
      ]
    },
    {
      "cell_type": "markdown",
      "metadata": {
        "id": "7r_D6z5ZsyOd",
        "colab_type": "text"
      },
      "source": [
        "## Exercise 2 [Total: 36 Points]\n"
      ]
    },
    {
      "cell_type": "markdown",
      "metadata": {
        "id": "5MbEozs6mhrd",
        "colab_type": "text"
      },
      "source": [
        "\n",
        "###Setting\n",
        "In this exercise, we will work with a dataset which explores the store sales.\n",
        "\n",
        "Before doing the assignment, please study this dataset here https://www.kaggle.com/c/rossmann-store-sales/data\n"
      ]
    },
    {
      "cell_type": "code",
      "metadata": {
        "id": "ziA1Im85eaIF",
        "colab_type": "code",
        "outputId": "ea19fa52-b554-48cf-bbaf-4a77ebb3901b",
        "colab": {
          "base_uri": "https://localhost:8080/",
          "height": 229
        }
      },
      "source": [
        "#Load the dataset\n",
        "link=\"https://drive.google.com/open?id=1Q6J0q4tlWJ7TajX6hMSvZ8tK3CyDD8QY\"\n",
        "_,id=link.split(\"=\")\n",
        "downloaded = drive.CreateFile({'id':id}) \n",
        "downloaded.GetContentFile('Sales.csv')  \n",
        "Sales = pd.read_csv('Sales.csv')\n",
        "Sales.head(5)"
      ],
      "execution_count": 0,
      "outputs": [
        {
          "output_type": "stream",
          "text": [
            "/usr/local/lib/python3.6/dist-packages/IPython/core/interactiveshell.py:2718: DtypeWarning: Columns (7) have mixed types. Specify dtype option on import or set low_memory=False.\n",
            "  interactivity=interactivity, compiler=compiler, result=result)\n"
          ],
          "name": "stderr"
        },
        {
          "output_type": "execute_result",
          "data": {
            "text/html": [
              "<div>\n",
              "<style scoped>\n",
              "    .dataframe tbody tr th:only-of-type {\n",
              "        vertical-align: middle;\n",
              "    }\n",
              "\n",
              "    .dataframe tbody tr th {\n",
              "        vertical-align: top;\n",
              "    }\n",
              "\n",
              "    .dataframe thead th {\n",
              "        text-align: right;\n",
              "    }\n",
              "</style>\n",
              "<table border=\"1\" class=\"dataframe\">\n",
              "  <thead>\n",
              "    <tr style=\"text-align: right;\">\n",
              "      <th></th>\n",
              "      <th>Store</th>\n",
              "      <th>DayOfWeek</th>\n",
              "      <th>Date</th>\n",
              "      <th>Sales</th>\n",
              "      <th>Customers</th>\n",
              "      <th>Open</th>\n",
              "      <th>Promo</th>\n",
              "      <th>StateHoliday</th>\n",
              "      <th>SchoolHoliday</th>\n",
              "    </tr>\n",
              "  </thead>\n",
              "  <tbody>\n",
              "    <tr>\n",
              "      <th>0</th>\n",
              "      <td>1</td>\n",
              "      <td>5</td>\n",
              "      <td>2015-07-31</td>\n",
              "      <td>5263</td>\n",
              "      <td>555</td>\n",
              "      <td>1</td>\n",
              "      <td>1</td>\n",
              "      <td>0</td>\n",
              "      <td>1</td>\n",
              "    </tr>\n",
              "    <tr>\n",
              "      <th>1</th>\n",
              "      <td>2</td>\n",
              "      <td>5</td>\n",
              "      <td>2015-07-31</td>\n",
              "      <td>6064</td>\n",
              "      <td>625</td>\n",
              "      <td>1</td>\n",
              "      <td>1</td>\n",
              "      <td>0</td>\n",
              "      <td>1</td>\n",
              "    </tr>\n",
              "    <tr>\n",
              "      <th>2</th>\n",
              "      <td>3</td>\n",
              "      <td>5</td>\n",
              "      <td>2015-07-31</td>\n",
              "      <td>8314</td>\n",
              "      <td>821</td>\n",
              "      <td>1</td>\n",
              "      <td>1</td>\n",
              "      <td>0</td>\n",
              "      <td>1</td>\n",
              "    </tr>\n",
              "    <tr>\n",
              "      <th>3</th>\n",
              "      <td>4</td>\n",
              "      <td>5</td>\n",
              "      <td>2015-07-31</td>\n",
              "      <td>13995</td>\n",
              "      <td>1498</td>\n",
              "      <td>1</td>\n",
              "      <td>1</td>\n",
              "      <td>0</td>\n",
              "      <td>1</td>\n",
              "    </tr>\n",
              "    <tr>\n",
              "      <th>4</th>\n",
              "      <td>5</td>\n",
              "      <td>5</td>\n",
              "      <td>2015-07-31</td>\n",
              "      <td>4822</td>\n",
              "      <td>559</td>\n",
              "      <td>1</td>\n",
              "      <td>1</td>\n",
              "      <td>0</td>\n",
              "      <td>1</td>\n",
              "    </tr>\n",
              "  </tbody>\n",
              "</table>\n",
              "</div>"
            ],
            "text/plain": [
              "   Store  DayOfWeek        Date  Sales  ...  Open  Promo  StateHoliday SchoolHoliday\n",
              "0      1          5  2015-07-31   5263  ...     1      1             0             1\n",
              "1      2          5  2015-07-31   6064  ...     1      1             0             1\n",
              "2      3          5  2015-07-31   8314  ...     1      1             0             1\n",
              "3      4          5  2015-07-31  13995  ...     1      1             0             1\n",
              "4      5          5  2015-07-31   4822  ...     1      1             0             1\n",
              "\n",
              "[5 rows x 9 columns]"
            ]
          },
          "metadata": {
            "tags": []
          },
          "execution_count": 25
        }
      ]
    },
    {
      "cell_type": "markdown",
      "metadata": {
        "id": "SNoNiBH0oH3L",
        "colab_type": "text"
      },
      "source": [
        "*You might see a warning when importing the data. This is because StateHoliday has both values in string and numbers. No worries about this for now.*"
      ]
    },
    {
      "cell_type": "markdown",
      "metadata": {
        "id": "1O-5fB5xAd8F",
        "colab_type": "text"
      },
      "source": [
        "###Q1 [6 points]\n",
        "\n",
        "\n",
        "* Use a scatter plot to discuss whether there is any relationship between sales and customers. \n",
        "\n",
        "\n",
        "* Report the store with the highest average sales per day.\n",
        "\n",
        "* Report the store with the highest average customers per day.\n",
        "\n",
        "* Report the store with the highest average sales/customers ratio per day.\n",
        "\n",
        "\n",
        "\n",
        "\n",
        "\n"
      ]
    },
    {
      "cell_type": "code",
      "metadata": {
        "id": "bpInm7NqAdiF",
        "colab_type": "code",
        "outputId": "47201bc9-d5c9-4046-8bad-6b6f4f3439f1",
        "colab": {
          "base_uri": "https://localhost:8080/",
          "height": 282
        }
      },
      "source": [
        "# Use a scatter plot to discuss whether there is any relationship between sales and customers.\n",
        "import matplotlib.pyplot as plt\n",
        "plt.scatter(Sales[\"Sales\"], Sales[\"Customers\"])"
      ],
      "execution_count": 0,
      "outputs": [
        {
          "output_type": "execute_result",
          "data": {
            "text/plain": [
              "<matplotlib.collections.PathCollection at 0x7f369f9595f8>"
            ]
          },
          "metadata": {
            "tags": []
          },
          "execution_count": 26
        },
        {
          "output_type": "display_data",
          "data": {
            "image/png": "[encoded data removed]",
            "text/plain": [
              "<Figure size 432x288 with 1 Axes>"
            ]
          },
          "metadata": {
            "tags": []
          }
        }
      ]
    },
    {
      "cell_type": "markdown",
      "metadata": {
        "id": "uY_ogiPrSEXn",
        "colab_type": "text"
      },
      "source": [
        "Sales and Customers may have a positive relationship"
      ]
    },
    {
      "cell_type": "code",
      "metadata": {
        "id": "uzsh0EX7SKZW",
        "colab_type": "code",
        "outputId": "448be76c-7116-4e38-abe9-a53b3c944c25",
        "colab": {
          "base_uri": "https://localhost:8080/",
          "height": 106
        }
      },
      "source": [
        "# Report the store with the highest average sales per day.\n",
        "AS=Sales[[\"Store\", \"Sales\"]].groupby(\"Store\").agg(np.average)\n",
        "AS[AS[\"Sales\"]==AS[\"Sales\"].max()]"
      ],
      "execution_count": 0,
      "outputs": [
        {
          "output_type": "execute_result",
          "data": {
            "text/html": [
              "<div>\n",
              "<style scoped>\n",
              "    .dataframe tbody tr th:only-of-type {\n",
              "        vertical-align: middle;\n",
              "    }\n",
              "\n",
              "    .dataframe tbody tr th {\n",
              "        vertical-align: top;\n",
              "    }\n",
              "\n",
              "    .dataframe thead th {\n",
              "        text-align: right;\n",
              "    }\n",
              "</style>\n",
              "<table border=\"1\" class=\"dataframe\">\n",
              "  <thead>\n",
              "    <tr style=\"text-align: right;\">\n",
              "      <th></th>\n",
              "      <th>Sales</th>\n",
              "    </tr>\n",
              "    <tr>\n",
              "      <th>Store</th>\n",
              "      <th></th>\n",
              "    </tr>\n",
              "  </thead>\n",
              "  <tbody>\n",
              "    <tr>\n",
              "      <th>262</th>\n",
              "      <td>20718.515924</td>\n",
              "    </tr>\n",
              "  </tbody>\n",
              "</table>\n",
              "</div>"
            ],
            "text/plain": [
              "              Sales\n",
              "Store              \n",
              "262    20718.515924"
            ]
          },
          "metadata": {
            "tags": []
          },
          "execution_count": 27
        }
      ]
    },
    {
      "cell_type": "code",
      "metadata": {
        "id": "peUWcv4qTSoX",
        "colab_type": "code",
        "outputId": "83d706f0-9e95-43ce-b218-babe96c91ce0",
        "colab": {
          "base_uri": "https://localhost:8080/",
          "height": 106
        }
      },
      "source": [
        "# Report the store with the highest average customers per day.\n",
        "AC=Sales[[\"Store\", \"Customers\"]].groupby(\"Store\").agg(np.average)\n",
        "AC[AC[\"Customers\"]==AC[\"Customers\"].max()]"
      ],
      "execution_count": 0,
      "outputs": [
        {
          "output_type": "execute_result",
          "data": {
            "text/html": [
              "<div>\n",
              "<style scoped>\n",
              "    .dataframe tbody tr th:only-of-type {\n",
              "        vertical-align: middle;\n",
              "    }\n",
              "\n",
              "    .dataframe tbody tr th {\n",
              "        vertical-align: top;\n",
              "    }\n",
              "\n",
              "    .dataframe thead th {\n",
              "        text-align: right;\n",
              "    }\n",
              "</style>\n",
              "<table border=\"1\" class=\"dataframe\">\n",
              "  <thead>\n",
              "    <tr style=\"text-align: right;\">\n",
              "      <th></th>\n",
              "      <th>Customers</th>\n",
              "    </tr>\n",
              "    <tr>\n",
              "      <th>Store</th>\n",
              "      <th></th>\n",
              "    </tr>\n",
              "  </thead>\n",
              "  <tbody>\n",
              "    <tr>\n",
              "      <th>733</th>\n",
              "      <td>3403.458599</td>\n",
              "    </tr>\n",
              "  </tbody>\n",
              "</table>\n",
              "</div>"
            ],
            "text/plain": [
              "         Customers\n",
              "Store             \n",
              "733    3403.458599"
            ]
          },
          "metadata": {
            "tags": []
          },
          "execution_count": 28
        }
      ]
    },
    {
      "cell_type": "code",
      "metadata": {
        "id": "UfWiW4xfTeju",
        "colab_type": "code",
        "outputId": "c260bfc8-eb67-4aec-960b-9904d51eb1d6",
        "colab": {
          "base_uri": "https://localhost:8080/",
          "height": 106
        }
      },
      "source": [
        "# Report the store with the highest average sales/customers ratio per day.\n",
        "# We consider the ratio in a day which has no customers 0.\n",
        "S=Sales.assign(ratio=Sales[\"Sales\"]/Sales[\"Customers\"]).fillna(0)\n",
        "S=S[[\"Store\", \"ratio\"]].groupby(\"Store\").agg(np.average)\n",
        "S[S[\"ratio\"]==S[\"ratio\"].max()]"
      ],
      "execution_count": 0,
      "outputs": [
        {
          "output_type": "execute_result",
          "data": {
            "text/html": [
              "<div>\n",
              "<style scoped>\n",
              "    .dataframe tbody tr th:only-of-type {\n",
              "        vertical-align: middle;\n",
              "    }\n",
              "\n",
              "    .dataframe tbody tr th {\n",
              "        vertical-align: top;\n",
              "    }\n",
              "\n",
              "    .dataframe thead th {\n",
              "        text-align: right;\n",
              "    }\n",
              "</style>\n",
              "<table border=\"1\" class=\"dataframe\">\n",
              "  <thead>\n",
              "    <tr style=\"text-align: right;\">\n",
              "      <th></th>\n",
              "      <th>ratio</th>\n",
              "    </tr>\n",
              "    <tr>\n",
              "      <th>Store</th>\n",
              "      <th></th>\n",
              "    </tr>\n",
              "  </thead>\n",
              "  <tbody>\n",
              "    <tr>\n",
              "      <th>842</th>\n",
              "      <td>13.181827</td>\n",
              "    </tr>\n",
              "  </tbody>\n",
              "</table>\n",
              "</div>"
            ],
            "text/plain": [
              "           ratio\n",
              "Store           \n",
              "842    13.181827"
            ]
          },
          "metadata": {
            "tags": []
          },
          "execution_count": 9
        }
      ]
    },
    {
      "cell_type": "markdown",
      "metadata": {
        "id": "Dxg8lfkUe5aw",
        "colab_type": "text"
      },
      "source": [
        "### Q2 [12 points]\n",
        "\n",
        "Run the following model\n",
        "\n",
        "$$Sales=\\beta_0+\\beta_1 Customers+ \\beta_2 Open + \\epsilon$$\n",
        "\n",
        "> (1) Print out the summary output\n",
        "\n",
        "> (2) Based on the regression result, answer the following questions\n",
        "\n",
        ">> In the context of this question, interpret $\\hat{\\beta_0}$, $\\hat{\\beta_1}$ and $\\hat{\\beta_2}$ based on the regression output. \n",
        "\n",
        ">> Based on the p-value corresponding to the row of customers, what can you conclude?\n",
        "\n",
        ">> Report the 99% confidence interval for $\\beta_1$\n",
        "\n",
        ">> Compute $R^2$ and adjusted $R^2$ based on NumPy array operations. Your results should match the values reported from `model.rsquared` and `model.rsquared_adj`."
      ]
    },
    {
      "cell_type": "code",
      "metadata": {
        "id": "oa-KpNvoe5HN",
        "colab_type": "code",
        "outputId": "d908b913-a1e8-4349-e47c-b9910e77cb82",
        "colab": {
          "base_uri": "https://localhost:8080/",
          "height": 487
        }
      },
      "source": [
        "#  Print out the summary output\n",
        "model=ols(\"𝑆𝑎𝑙𝑒𝑠~𝐶𝑢𝑠𝑡𝑜𝑚𝑒𝑟𝑠+C(𝑂𝑝𝑒𝑛)\",Sales).fit()\n",
        "print(model.summary())"
      ],
      "execution_count": 0,
      "outputs": [
        {
          "output_type": "stream",
          "text": [
            "                            OLS Regression Results                            \n",
            "==============================================================================\n",
            "Dep. Variable:                  𝑆𝑎𝑙𝑒𝑠   R-squared:                       0.826\n",
            "Model:                            OLS   Adj. R-squared:                  0.826\n",
            "Method:                 Least Squares   F-statistic:                 2.421e+06\n",
            "Date:                Fri, 14 Feb 2020   Prob (F-statistic):               0.00\n",
            "Time:                        20:59:19   Log-Likelihood:            -8.9507e+06\n",
            "No. Observations:             1017209   AIC:                         1.790e+07\n",
            "Df Residuals:                 1017206   BIC:                         1.790e+07\n",
            "Df Model:                           2                                         \n",
            "Covariance Type:            nonrobust                                         \n",
            "================================================================================\n",
            "                   coef    std err          t      P>|t|      [0.025      0.975]\n",
            "--------------------------------------------------------------------------------\n",
            "Intercept    -3.017e-10      3.859  -7.82e-11      1.000      -7.563       7.563\n",
            "C(𝑂𝑝𝑒𝑛)[T.1]  2095.4121      5.380    389.446      0.000    2084.867    2105.958\n",
            "𝐶𝑢𝑠𝑡𝑜𝑚𝑒𝑟𝑠        6.3720      0.004   1464.540      0.000       6.363       6.381\n",
            "==============================================================================\n",
            "Omnibus:                   174664.307   Durbin-Watson:                   1.538\n",
            "Prob(Omnibus):                  0.000   Jarque-Bera (JB):          2877540.904\n",
            "Skew:                           0.331   Prob(JB):                         0.00\n",
            "Kurtosis:                      11.213   Cond. No.                     3.06e+03\n",
            "==============================================================================\n",
            "\n",
            "Warnings:\n",
            "[1] Standard Errors assume that the covariance matrix of the errors is correctly specified.\n",
            "[2] The condition number is large, 3.06e+03. This might indicate that there are\n",
            "strong multicollinearity or other numerical problems.\n"
          ],
          "name": "stdout"
        }
      ]
    },
    {
      "cell_type": "markdown",
      "metadata": {
        "id": "VEsz3y0vgGUr",
        "colab_type": "text"
      },
      "source": [
        "**In the context of this question, interpret  β0^ ,  β1^  and  β2^  based on the regression output.**\n",
        "\n",
        "𝛽0^: If a store is closed and has no customers, the expected sales will be -2.7e-11 unit of sales on average (have no realistic meaning)\n",
        "\n",
        "𝛽1^: Open/Close Condition fixed, if one more customer comes into the store, the sales is expected to be 6.372 units higher.\n",
        "\n",
        "𝛽2^: Customer numbers fixed, a open store will have 2095.41 units more than a closed store on average."
      ]
    },
    {
      "cell_type": "markdown",
      "metadata": {
        "id": "EYp5sU1wjXFy",
        "colab_type": "text"
      },
      "source": [
        "**Based on the p-value corresponding to the row of customers, what can you conclude?**\n",
        "\n",
        "P-value corresponding to the row of customers is 0.000, which means the variable is extremely significant, and we can reject the null hypothesis."
      ]
    },
    {
      "cell_type": "code",
      "metadata": {
        "id": "izPMBJM4gbJK",
        "colab_type": "code",
        "outputId": "24c36424-39af-4a47-da15-746119646665",
        "colab": {
          "base_uri": "https://localhost:8080/",
          "height": 136
        }
      },
      "source": [
        "#Report the 99% confidence interval for  𝛽1\n",
        "model.conf_int(0.01)"
      ],
      "execution_count": 0,
      "outputs": [
        {
          "output_type": "execute_result",
          "data": {
            "text/html": [
              "<div>\n",
              "<style scoped>\n",
              "    .dataframe tbody tr th:only-of-type {\n",
              "        vertical-align: middle;\n",
              "    }\n",
              "\n",
              "    .dataframe tbody tr th {\n",
              "        vertical-align: top;\n",
              "    }\n",
              "\n",
              "    .dataframe thead th {\n",
              "        text-align: right;\n",
              "    }\n",
              "</style>\n",
              "<table border=\"1\" class=\"dataframe\">\n",
              "  <thead>\n",
              "    <tr style=\"text-align: right;\">\n",
              "      <th></th>\n",
              "      <th>0</th>\n",
              "      <th>1</th>\n",
              "    </tr>\n",
              "  </thead>\n",
              "  <tbody>\n",
              "    <tr>\n",
              "      <th>Intercept</th>\n",
              "      <td>-9.939430</td>\n",
              "      <td>9.939430</td>\n",
              "    </tr>\n",
              "    <tr>\n",
              "      <th>C(𝑂𝑝𝑒𝑛)[T.1]</th>\n",
              "      <td>2081.552884</td>\n",
              "      <td>2109.271395</td>\n",
              "    </tr>\n",
              "    <tr>\n",
              "      <th>𝐶𝑢𝑠𝑡𝑜𝑚𝑒𝑟𝑠</th>\n",
              "      <td>6.360789</td>\n",
              "      <td>6.383203</td>\n",
              "    </tr>\n",
              "  </tbody>\n",
              "</table>\n",
              "</div>"
            ],
            "text/plain": [
              "                        0            1\n",
              "Intercept       -9.939430     9.939430\n",
              "C(𝑂𝑝𝑒𝑛)[T.1]  2081.552884  2109.271395\n",
              "𝐶𝑢𝑠𝑡𝑜𝑚𝑒𝑟𝑠        6.360789     6.383203"
            ]
          },
          "metadata": {
            "tags": []
          },
          "execution_count": 31
        }
      ]
    },
    {
      "cell_type": "code",
      "metadata": {
        "id": "OxokrUX5PXDK",
        "colab_type": "code",
        "outputId": "4aedaed5-7904-4783-9b3b-38d9e4b02e2d",
        "colab": {
          "base_uri": "https://localhost:8080/",
          "height": 34
        }
      },
      "source": [
        "# Compute  R2  and adjusted  R2  based on NumPy array operations.\n",
        "Sales['y_pred'] = model.predict(Sales)\n",
        "Sales['ybar'] = Sales['Sales'].mean()\n",
        "y = Sales['Sales']\n",
        "SSE = (Sales['Sales']-Sales['y_pred'])**2\n",
        "SST = (Sales['Sales']-Sales['ybar'])**2\n",
        "R2 = 1-SSE.sum()/SST.sum()\n",
        "\n",
        "if R2==model.rsquared:\n",
        "  print('R2=',R2,' ','The result matches the values reported from model.rsquared.')\n",
        "else:\n",
        "  print('R2=',R2,' ','The result does not match the values reported from model.rsquared.')"
      ],
      "execution_count": 0,
      "outputs": [
        {
          "output_type": "stream",
          "text": [
            "R2= 0.826392711784504   The result matches the values reported from model.rsquared.\n"
          ],
          "name": "stdout"
        }
      ]
    },
    {
      "cell_type": "code",
      "metadata": {
        "id": "_H5lJ9dIkm1I",
        "colab_type": "code",
        "outputId": "3a502732-bc01-4674-df96-4ad7dad9fd3a",
        "colab": {
          "base_uri": "https://localhost:8080/",
          "height": 34
        }
      },
      "source": [
        "adjustedR2 = 1-(1-R2)*((model.nobs-1)/(model.nobs-3))\n",
        "\n",
        "if adjustedR2==model.rsquared_adj:\n",
        "  print('adjustedR2=',adjustedR2,' ','The result matches the values reported from model.rsquared_adj.')\n",
        "else:\n",
        "  print('adjustedR2=',adjustedR2,' ','The result does not match the values reported from model.rsquared_adj.')"
      ],
      "execution_count": 0,
      "outputs": [
        {
          "output_type": "stream",
          "text": [
            "adjustedR2= 0.8263923704430487   The result matches the values reported from model.rsquared_adj.\n"
          ],
          "name": "stdout"
        }
      ]
    },
    {
      "cell_type": "markdown",
      "metadata": {
        "id": "6hZ2aaMhVGx6",
        "colab_type": "text"
      },
      "source": [
        "###Q3 [5 points]\n",
        "\n",
        "Run the running model with **only observations that have the store opening during the observation day.**\n",
        "\n",
        "$$Sales=\\beta_0+\\beta_1 Customers + \\epsilon$$\n",
        "\n",
        "* Report the regression output table\n",
        "* Are both models in Q2 and Q3 estimating the same thing? Why?"
      ]
    },
    {
      "cell_type": "code",
      "metadata": {
        "id": "QmP4vYdBVJbZ",
        "colab_type": "code",
        "outputId": "04d2e86e-a57c-4bb4-c7e1-f92c803aa462",
        "colab": {
          "base_uri": "https://localhost:8080/",
          "height": 470
        }
      },
      "source": [
        "# Report the regression output table\n",
        "New = Sales.loc[Sales['Open']==1]\n",
        "model1=ols(\"𝑆𝑎𝑙𝑒𝑠~𝐶𝑢𝑠𝑡𝑜𝑚𝑒𝑟𝑠\",New).fit()\n",
        "\n",
        "print(model1.summary())"
      ],
      "execution_count": 0,
      "outputs": [
        {
          "output_type": "stream",
          "text": [
            "                            OLS Regression Results                            \n",
            "==============================================================================\n",
            "Dep. Variable:                  𝑆𝑎𝑙𝑒𝑠   R-squared:                       0.678\n",
            "Model:                            OLS   Adj. R-squared:                  0.678\n",
            "Method:                 Least Squares   F-statistic:                 1.780e+06\n",
            "Date:                Fri, 14 Feb 2020   Prob (F-statistic):               0.00\n",
            "Time:                        21:20:55   Log-Likelihood:            -7.5086e+06\n",
            "No. Observations:              844392   AIC:                         1.502e+07\n",
            "Df Residuals:                  844390   BIC:                         1.502e+07\n",
            "Df Model:                           1                                         \n",
            "Covariance Type:            nonrobust                                         \n",
            "==============================================================================\n",
            "                 coef    std err          t      P>|t|      [0.025      0.975]\n",
            "------------------------------------------------------------------------------\n",
            "Intercept   2095.4121      4.116    509.149      0.000    2087.346    2103.478\n",
            "𝐶𝑢𝑠𝑡𝑜𝑚𝑒𝑟𝑠      6.3720      0.005   1334.346      0.000       6.363       6.381\n",
            "==============================================================================\n",
            "Omnibus:                   121855.115   Durbin-Watson:                   1.507\n",
            "Prob(Omnibus):                  0.000   Jarque-Bera (JB):          1412780.405\n",
            "Skew:                           0.302   Prob(JB):                         0.00\n",
            "Kurtosis:                       9.308   Cond. No.                     1.85e+03\n",
            "==============================================================================\n",
            "\n",
            "Warnings:\n",
            "[1] Standard Errors assume that the covariance matrix of the errors is correctly specified.\n",
            "[2] The condition number is large, 1.85e+03. This might indicate that there are\n",
            "strong multicollinearity or other numerical problems.\n"
          ],
          "name": "stdout"
        }
      ]
    },
    {
      "cell_type": "markdown",
      "metadata": {
        "id": "muRqdsuHk4zD",
        "colab_type": "text"
      },
      "source": [
        "**Are both models in Q2 and Q3 estimating the same thing? Why?**\n",
        "\n",
        "They do not estimate the same thing. Because *Sales* variable only has value when a store is open (*Open*=1)."
      ]
    },
    {
      "cell_type": "markdown",
      "metadata": {
        "id": "fsl2cJPei2M3",
        "colab_type": "text"
      },
      "source": [
        "###Q4 [13 points]\n",
        "\n",
        "* Plot residual v.s. fitted value plot for the model in Q3. Describe any issues you see. \n",
        "\n",
        "* Use histograms to explain why log transformation might help you solve the problem. Notice that if a variable $x$ takes value=0, you will encounter errors when taking $ln(x)$. We can use $ln(x+1)$ instead of $ln(x)$. If the values of $x$ are generally large, you can interpret the coefficient as if we used $ln(x)$.\n",
        "\n",
        "* Apply adequate transformations for the model in Q1. Run a simple linear regression with transformed variables and report the output. \n",
        "  \n",
        "* Provide residual v.s. fitted value plot value again. Compare with the previous plot to discuss whether the model looks better based on residual analysis.\n",
        "\n",
        "* In the context of this question, interpret $\\hat{\\beta_1}$ based on the regression output.\n",
        "\n",
        "\n"
      ]
    },
    {
      "cell_type": "code",
      "metadata": {
        "id": "A9XVAEZTovml",
        "colab_type": "code",
        "outputId": "cb74c9d9-af1c-47a0-fda2-f0bf9296001b",
        "colab": {
          "base_uri": "https://localhost:8080/",
          "height": 279
        }
      },
      "source": [
        "# Plot residual v.s. fitted value plot for the model in Q3. Describe any issues you see.\n",
        "plt.scatter(model1.predict(),model1.resid.values)\n",
        "plt.xlabel(\"fitted value\")\n",
        "plt.ylabel(\"residual\")\n",
        "plt.hlines(0,xmin=np.min(model1.predict()), xmax=np.max(model1.predict()))\n",
        "plt.show()"
      ],
      "execution_count": 0,
      "outputs": [
        {
          "output_type": "display_data",
          "data": {
            "image/png": "[encoded data removed]",
            "text/plain": [
              "<Figure size 432x288 with 1 Axes>"
            ]
          },
          "metadata": {
            "tags": []
          }
        }
      ]
    },
    {
      "cell_type": "markdown",
      "metadata": {
        "id": "iU7RzBVYlr5N",
        "colab_type": "text"
      },
      "source": [
        "The issue is heteroscedasticity.\n"
      ]
    },
    {
      "cell_type": "code",
      "metadata": {
        "id": "yogKrZdzlfdW",
        "colab_type": "code",
        "outputId": "dd470f22-8b0e-43e9-c702-816da133e11d",
        "colab": {
          "base_uri": "https://localhost:8080/",
          "height": 265
        }
      },
      "source": [
        "# Use histograms to explain why log transformation might help you solve the problem. \n",
        "plt.hist(New['Sales'].values)\n",
        "plt.show()"
      ],
      "execution_count": 0,
      "outputs": [
        {
          "output_type": "display_data",
          "data": {
            "image/png": "[encoded data removed]",
            "text/plain": [
              "<Figure size 432x288 with 1 Axes>"
            ]
          },
          "metadata": {
            "tags": []
          }
        }
      ]
    },
    {
      "cell_type": "code",
      "metadata": {
        "id": "lpJ9F8SomKi_",
        "colab_type": "code",
        "outputId": "bc570121-f678-4c66-8141-d15d0bbb9f57",
        "colab": {
          "base_uri": "https://localhost:8080/",
          "height": 265
        }
      },
      "source": [
        "plt.hist(New['Customers'].values)\n",
        "plt.show()"
      ],
      "execution_count": 0,
      "outputs": [
        {
          "output_type": "display_data",
          "data": {
            "image/png": "[encoded data removed]",
            "text/plain": [
              "<Figure size 432x288 with 1 Axes>"
            ]
          },
          "metadata": {
            "tags": []
          }
        }
      ]
    },
    {
      "cell_type": "code",
      "metadata": {
        "id": "vRse8ccFl3Bj",
        "colab_type": "code",
        "outputId": "7ad4f213-5be1-4134-8e6c-f1fedd992763",
        "colab": {
          "base_uri": "https://localhost:8080/",
          "height": 265
        }
      },
      "source": [
        "plt.hist(np.log(New['Sales'].values+1))\n",
        "plt.show()"
      ],
      "execution_count": 0,
      "outputs": [
        {
          "output_type": "display_data",
          "data": {
            "image/png": "[encoded data removed]",
            "text/plain": [
              "<Figure size 432x288 with 1 Axes>"
            ]
          },
          "metadata": {
            "tags": []
          }
        }
      ]
    },
    {
      "cell_type": "code",
      "metadata": {
        "id": "NIAtZOc2mRCR",
        "colab_type": "code",
        "outputId": "c289c646-3cd0-4faf-be2d-4e4290db24cf",
        "colab": {
          "base_uri": "https://localhost:8080/",
          "height": 267
        }
      },
      "source": [
        "plt.hist(np.log(New['Customers'].values+1))\n",
        "plt.show()"
      ],
      "execution_count": 0,
      "outputs": [
        {
          "output_type": "display_data",
          "data": {
            "image/png": "[encoded data removed]",
            "text/plain": [
              "<Figure size 432x288 with 1 Axes>"
            ]
          },
          "metadata": {
            "tags": []
          }
        }
      ]
    },
    {
      "cell_type": "markdown",
      "metadata": {
        "id": "96NE3evGl8I6",
        "colab_type": "text"
      },
      "source": [
        "The distribution of original Sales and Customers has a right tail. After log transform, the distribution is more like a normal distribution."
      ]
    },
    {
      "cell_type": "code",
      "metadata": {
        "id": "oteUmp92hifk",
        "colab_type": "code",
        "outputId": "911ef33f-0b0a-427f-acc7-41b32cd783b5",
        "colab": {
          "base_uri": "https://localhost:8080/",
          "height": 437
        }
      },
      "source": [
        "# Apply adequate transformations for the model in Q1. Run a simple linear regression with transformed variables and report the output.\n",
        "model2=ols(\"np.log(Sales+1)~np.log(Customers+1)\",New).fit()\n",
        "print(model2.summary())"
      ],
      "execution_count": 0,
      "outputs": [
        {
          "output_type": "stream",
          "text": [
            "                            OLS Regression Results                            \n",
            "==============================================================================\n",
            "Dep. Variable:      np.log(Sales + 1)   R-squared:                       0.732\n",
            "Model:                            OLS   Adj. R-squared:                  0.732\n",
            "Method:                 Least Squares   F-statistic:                 2.303e+06\n",
            "Date:                Fri, 14 Feb 2020   Prob (F-statistic):               0.00\n",
            "Time:                        21:28:31   Log-Likelihood:                 68211.\n",
            "No. Observations:              844392   AIC:                        -1.364e+05\n",
            "Df Residuals:                  844390   BIC:                        -1.364e+05\n",
            "Df Model:                           1                                         \n",
            "Covariance Type:            nonrobust                                         \n",
            "=========================================================================================\n",
            "                            coef    std err          t      P>|t|      [0.025      0.975]\n",
            "-----------------------------------------------------------------------------------------\n",
            "Intercept                 3.3139      0.004    921.806      0.000       3.307       3.321\n",
            "np.log(Customers + 1)     0.8329      0.001   1517.608      0.000       0.832       0.834\n",
            "==============================================================================\n",
            "Omnibus:                    89387.195   Durbin-Watson:                   1.590\n",
            "Prob(Omnibus):                  0.000   Jarque-Bera (JB):           496049.042\n",
            "Skew:                          -0.365   Prob(JB):                         0.00\n",
            "Kurtosis:                       6.683   Cond. No.                         99.2\n",
            "==============================================================================\n",
            "\n",
            "Warnings:\n",
            "[1] Standard Errors assume that the covariance matrix of the errors is correctly specified.\n"
          ],
          "name": "stdout"
        }
      ]
    },
    {
      "cell_type": "code",
      "metadata": {
        "id": "BqNB-ahkmnr9",
        "colab_type": "code",
        "outputId": "0e79fe2d-108b-4ff8-d225-3f285aa6987e",
        "colab": {
          "base_uri": "https://localhost:8080/",
          "height": 279
        }
      },
      "source": [
        "# Provide residual v.s. fitted value plot value again. Compare with the previous plot to discuss whether the model looks better based on residual analysis.\n",
        "plt.scatter(model2.predict(),model2.resid.values)\n",
        "plt.xlabel(\"fitted value\")\n",
        "plt.ylabel(\"residual\")\n",
        "plt.hlines(0,xmin=np.min(model2.predict()), xmax=np.max(model2.predict()))\n",
        "plt.show()"
      ],
      "execution_count": 0,
      "outputs": [
        {
          "output_type": "display_data",
          "data": {
            "image/png": "[encoded data removed]",
            "text/plain": [
              "<Figure size 432x288 with 1 Axes>"
            ]
          },
          "metadata": {
            "tags": []
          }
        }
      ]
    },
    {
      "cell_type": "markdown",
      "metadata": {
        "id": "1z3SrOezm0Xx",
        "colab_type": "text"
      },
      "source": [
        "The plot is better, the residuals are centered at 0."
      ]
    },
    {
      "cell_type": "markdown",
      "metadata": {
        "id": "rSoeKjjrnRR6",
        "colab_type": "text"
      },
      "source": [
        "**In the context of this question, interpret  β1^  based on the regression output.**\n",
        "\n",
        "Other conditions fixed, when Customer increase 1%, Sales will increase 0.83% "
      ]
    }
  ]
}