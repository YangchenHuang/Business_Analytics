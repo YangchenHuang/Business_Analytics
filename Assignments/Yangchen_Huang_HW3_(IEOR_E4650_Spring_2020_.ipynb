{
  "nbformat": 4,
  "nbformat_minor": 0,
  "metadata": {
    "colab": {
      "name": "Yangchen Huang - HW3 (IEOR E4650 Spring 2020 .ipynb",
      "provenance": [],
      "collapsed_sections": [],
      "machine_shape": "hm",
      "include_colab_link": true
    },
    "kernelspec": {
      "name": "python3",
      "display_name": "Python 3"
    }
  },
  "cells": [
    {
      "cell_type": "markdown",
      "metadata": {
        "id": "view-in-github",
        "colab_type": "text"
      },
      "source": [
        "<a href=\"https://colab.research.google.com/github/YangchenHuang/Business_Analytics/blob/master/Assignments/Yangchen_Huang_HW3_(IEOR_E4650_Spring_2020_.ipynb\" target=\"_parent\"><img src=\"https://colab.research.google.com/assets/colab-badge.svg\" alt=\"Open In Colab\"/></a>"
      ]
    },
    {
      "cell_type": "markdown",
      "metadata": {
        "id": "9JCRnqkLnjHE",
        "colab_type": "text"
      },
      "source": [
        "# **IEOR 4650  Business Analytics (Spring 2020)**\n",
        "\n",
        "**Homework 3 [Total points: 60]**\n",
        "\n",
        "**Due: 11:59 PM, Feb 26**\n",
        "\n",
        "Homework 3 consists of Python programming practices and the applications to \n",
        "* Time series\n",
        "* Maximum Likelihood Estimation\n",
        "\n",
        "The steps to finish the homework:\n",
        "\n",
        "*   Step 1: Answer your homework on Google Colab.\n",
        "*   Step 2: Submit the copy on Google Assignment\n",
        "\n",
        "Before you submit your assignment, make sure to re-run your code from the beginning. (You can do so by first clicking Runtime/Reset All Runtimes and then clicking Runtime/Run all)"
      ]
    },
    {
      "cell_type": "code",
      "metadata": {
        "id": "lSH_bDnX2ybu",
        "colab_type": "code",
        "colab": {}
      },
      "source": [
        "#This imports all the packages you need for the homework\n",
        "#Please run this first\n",
        "\n",
        "\n",
        "!pip install -U -q PyDrive\n",
        "from pydrive.auth import GoogleAuth\n",
        "from pydrive.drive import GoogleDrive\n",
        "from google.colab import auth\n",
        "from oauth2client.client import GoogleCredentials\n",
        "# Authenticate and create the PyDrive client.\n",
        "auth.authenticate_user()\n",
        "gauth = GoogleAuth()\n",
        "gauth.credentials = GoogleCredentials.get_application_default()\n",
        "drive = GoogleDrive(gauth)\n",
        "\n",
        "\n",
        "#import modules\n",
        "\n",
        "import numpy as np\n",
        "import pandas as pd\n",
        "from statsmodels.formula.api import ols\n",
        "import matplotlib.pyplot as plt\n",
        "from sklearn.model_selection import train_test_split\n",
        "from sklearn.linear_model import ElasticNet\n",
        "from sklearn.linear_model import Ridge\n",
        "from sklearn.linear_model import Lasso\n",
        "from sklearn.linear_model import LinearRegression\n",
        "from statsmodels.base.model import GenericLikelihoodModel\n",
        "import scipy.special as spsp"
      ],
      "execution_count": 0,
      "outputs": []
    },
    {
      "cell_type": "markdown",
      "metadata": {
        "id": "5MbEozs6mhrd",
        "colab_type": "text"
      },
      "source": [
        "\n",
        "#Exercise 1 [18 Points]\n",
        "In this exercise, let's continue working with a dataset which explores the store sales.\n",
        "\n",
        "Before doing the assignment, please study this dataset [here](https://www.kaggle.com/c/rossmann-store-sales/data)\n",
        "\n",
        "\n",
        "For this study, we are interested in finding a good model that gives good prediction performance. \n",
        "\n",
        "* Especially, we use RMSPE as our accuracy measurement. RMSPE is defined as following:\n",
        "$$RMSPE = \\sqrt{\\frac{1}{{N}}{(\\frac{y_i-\\widehat{y_i}}{y_i})^2}}$$\n",
        "* In addition, any day and store with 0 actual sales is ignored in scoring."
      ]
    },
    {
      "cell_type": "code",
      "metadata": {
        "id": "ziA1Im85eaIF",
        "colab_type": "code",
        "outputId": "0334c659-5b5d-491c-a532-eb368bee01f3",
        "colab": {
          "base_uri": "https://localhost:8080/",
          "height": 229
        }
      },
      "source": [
        "#Load the dataset\n",
        "link=\"https://drive.google.com/open?id=1Q6J0q4tlWJ7TajX6hMSvZ8tK3CyDD8QY\"\n",
        "_,id=link.split(\"=\")\n",
        "downloaded = drive.CreateFile({'id':id}) \n",
        "downloaded.GetContentFile('Sales.csv')  \n",
        "SALE = pd.read_csv('Sales.csv')\n",
        "SALE.head(5)\n",
        "\n"
      ],
      "execution_count": 2,
      "outputs": [
        {
          "output_type": "stream",
          "text": [
            "/usr/local/lib/python3.6/dist-packages/IPython/core/interactiveshell.py:2718: DtypeWarning: Columns (7) have mixed types. Specify dtype option on import or set low_memory=False.\n",
            "  interactivity=interactivity, compiler=compiler, result=result)\n"
          ],
          "name": "stderr"
        },
        {
          "output_type": "execute_result",
          "data": {
            "text/html": [
              "<div>\n",
              "<style scoped>\n",
              "    .dataframe tbody tr th:only-of-type {\n",
              "        vertical-align: middle;\n",
              "    }\n",
              "\n",
              "    .dataframe tbody tr th {\n",
              "        vertical-align: top;\n",
              "    }\n",
              "\n",
              "    .dataframe thead th {\n",
              "        text-align: right;\n",
              "    }\n",
              "</style>\n",
              "<table border=\"1\" class=\"dataframe\">\n",
              "  <thead>\n",
              "    <tr style=\"text-align: right;\">\n",
              "      <th></th>\n",
              "      <th>Store</th>\n",
              "      <th>DayOfWeek</th>\n",
              "      <th>Date</th>\n",
              "      <th>Sales</th>\n",
              "      <th>Customers</th>\n",
              "      <th>Open</th>\n",
              "      <th>Promo</th>\n",
              "      <th>StateHoliday</th>\n",
              "      <th>SchoolHoliday</th>\n",
              "    </tr>\n",
              "  </thead>\n",
              "  <tbody>\n",
              "    <tr>\n",
              "      <th>0</th>\n",
              "      <td>1</td>\n",
              "      <td>5</td>\n",
              "      <td>2015-07-31</td>\n",
              "      <td>5263</td>\n",
              "      <td>555</td>\n",
              "      <td>1</td>\n",
              "      <td>1</td>\n",
              "      <td>0</td>\n",
              "      <td>1</td>\n",
              "    </tr>\n",
              "    <tr>\n",
              "      <th>1</th>\n",
              "      <td>2</td>\n",
              "      <td>5</td>\n",
              "      <td>2015-07-31</td>\n",
              "      <td>6064</td>\n",
              "      <td>625</td>\n",
              "      <td>1</td>\n",
              "      <td>1</td>\n",
              "      <td>0</td>\n",
              "      <td>1</td>\n",
              "    </tr>\n",
              "    <tr>\n",
              "      <th>2</th>\n",
              "      <td>3</td>\n",
              "      <td>5</td>\n",
              "      <td>2015-07-31</td>\n",
              "      <td>8314</td>\n",
              "      <td>821</td>\n",
              "      <td>1</td>\n",
              "      <td>1</td>\n",
              "      <td>0</td>\n",
              "      <td>1</td>\n",
              "    </tr>\n",
              "    <tr>\n",
              "      <th>3</th>\n",
              "      <td>4</td>\n",
              "      <td>5</td>\n",
              "      <td>2015-07-31</td>\n",
              "      <td>13995</td>\n",
              "      <td>1498</td>\n",
              "      <td>1</td>\n",
              "      <td>1</td>\n",
              "      <td>0</td>\n",
              "      <td>1</td>\n",
              "    </tr>\n",
              "    <tr>\n",
              "      <th>4</th>\n",
              "      <td>5</td>\n",
              "      <td>5</td>\n",
              "      <td>2015-07-31</td>\n",
              "      <td>4822</td>\n",
              "      <td>559</td>\n",
              "      <td>1</td>\n",
              "      <td>1</td>\n",
              "      <td>0</td>\n",
              "      <td>1</td>\n",
              "    </tr>\n",
              "  </tbody>\n",
              "</table>\n",
              "</div>"
            ],
            "text/plain": [
              "   Store  DayOfWeek        Date  Sales  ...  Open  Promo  StateHoliday SchoolHoliday\n",
              "0      1          5  2015-07-31   5263  ...     1      1             0             1\n",
              "1      2          5  2015-07-31   6064  ...     1      1             0             1\n",
              "2      3          5  2015-07-31   8314  ...     1      1             0             1\n",
              "3      4          5  2015-07-31  13995  ...     1      1             0             1\n",
              "4      5          5  2015-07-31   4822  ...     1      1             0             1\n",
              "\n",
              "[5 rows x 9 columns]"
            ]
          },
          "metadata": {
            "tags": []
          },
          "execution_count": 2
        }
      ]
    },
    {
      "cell_type": "markdown",
      "metadata": {
        "id": "SNoNiBH0oH3L",
        "colab_type": "text"
      },
      "source": [
        "*You might see a warning when importing the data. This is because StateHoliday has both values in string and numbers. No worries this for now.*"
      ]
    },
    {
      "cell_type": "code",
      "metadata": {
        "id": "KCeAzHTC2czY",
        "colab_type": "code",
        "outputId": "3927bf0e-d56f-4446-f979-8e6d200ae887",
        "colab": {
          "base_uri": "https://localhost:8080/",
          "height": 195
        }
      },
      "source": [
        "link=\"https://drive.google.com/open?id=1g6URzUJnhCLOtg0a9TTHC18KYcqwxvoc\"\n",
        "_,id=link.split(\"=\")\n",
        "downloaded = drive.CreateFile({'id':id}) \n",
        "downloaded.GetContentFile('myfile_store.csv')  \n",
        "STORE = pd.read_csv('myfile_store.csv')\n",
        "STORE.head(5)"
      ],
      "execution_count": 3,
      "outputs": [
        {
          "output_type": "execute_result",
          "data": {
            "text/html": [
              "<div>\n",
              "<style scoped>\n",
              "    .dataframe tbody tr th:only-of-type {\n",
              "        vertical-align: middle;\n",
              "    }\n",
              "\n",
              "    .dataframe tbody tr th {\n",
              "        vertical-align: top;\n",
              "    }\n",
              "\n",
              "    .dataframe thead th {\n",
              "        text-align: right;\n",
              "    }\n",
              "</style>\n",
              "<table border=\"1\" class=\"dataframe\">\n",
              "  <thead>\n",
              "    <tr style=\"text-align: right;\">\n",
              "      <th></th>\n",
              "      <th>Store</th>\n",
              "      <th>StoreType</th>\n",
              "      <th>Assortment</th>\n",
              "      <th>CompetitionDistance</th>\n",
              "      <th>CompetitionOpenSinceMonth</th>\n",
              "      <th>CompetitionOpenSinceYear</th>\n",
              "      <th>Promo2</th>\n",
              "      <th>Promo2SinceWeek</th>\n",
              "      <th>Promo2SinceYear</th>\n",
              "      <th>PromoInterval</th>\n",
              "    </tr>\n",
              "  </thead>\n",
              "  <tbody>\n",
              "    <tr>\n",
              "      <th>0</th>\n",
              "      <td>1</td>\n",
              "      <td>c</td>\n",
              "      <td>a</td>\n",
              "      <td>1270.0</td>\n",
              "      <td>9.0</td>\n",
              "      <td>2008.0</td>\n",
              "      <td>0</td>\n",
              "      <td>NaN</td>\n",
              "      <td>NaN</td>\n",
              "      <td>NaN</td>\n",
              "    </tr>\n",
              "    <tr>\n",
              "      <th>1</th>\n",
              "      <td>2</td>\n",
              "      <td>a</td>\n",
              "      <td>a</td>\n",
              "      <td>570.0</td>\n",
              "      <td>11.0</td>\n",
              "      <td>2007.0</td>\n",
              "      <td>1</td>\n",
              "      <td>13.0</td>\n",
              "      <td>2010.0</td>\n",
              "      <td>Jan,Apr,Jul,Oct</td>\n",
              "    </tr>\n",
              "    <tr>\n",
              "      <th>2</th>\n",
              "      <td>3</td>\n",
              "      <td>a</td>\n",
              "      <td>a</td>\n",
              "      <td>14130.0</td>\n",
              "      <td>12.0</td>\n",
              "      <td>2006.0</td>\n",
              "      <td>1</td>\n",
              "      <td>14.0</td>\n",
              "      <td>2011.0</td>\n",
              "      <td>Jan,Apr,Jul,Oct</td>\n",
              "    </tr>\n",
              "    <tr>\n",
              "      <th>3</th>\n",
              "      <td>4</td>\n",
              "      <td>c</td>\n",
              "      <td>c</td>\n",
              "      <td>620.0</td>\n",
              "      <td>9.0</td>\n",
              "      <td>2009.0</td>\n",
              "      <td>0</td>\n",
              "      <td>NaN</td>\n",
              "      <td>NaN</td>\n",
              "      <td>NaN</td>\n",
              "    </tr>\n",
              "    <tr>\n",
              "      <th>4</th>\n",
              "      <td>5</td>\n",
              "      <td>a</td>\n",
              "      <td>a</td>\n",
              "      <td>29910.0</td>\n",
              "      <td>4.0</td>\n",
              "      <td>2015.0</td>\n",
              "      <td>0</td>\n",
              "      <td>NaN</td>\n",
              "      <td>NaN</td>\n",
              "      <td>NaN</td>\n",
              "    </tr>\n",
              "  </tbody>\n",
              "</table>\n",
              "</div>"
            ],
            "text/plain": [
              "   Store StoreType  ... Promo2SinceYear    PromoInterval\n",
              "0      1         c  ...             NaN              NaN\n",
              "1      2         a  ...          2010.0  Jan,Apr,Jul,Oct\n",
              "2      3         a  ...          2011.0  Jan,Apr,Jul,Oct\n",
              "3      4         c  ...             NaN              NaN\n",
              "4      5         a  ...             NaN              NaN\n",
              "\n",
              "[5 rows x 10 columns]"
            ]
          },
          "metadata": {
            "tags": []
          },
          "execution_count": 3
        }
      ]
    },
    {
      "cell_type": "code",
      "metadata": {
        "id": "UiwgzzeFZSih",
        "colab_type": "code",
        "colab": {}
      },
      "source": [
        ""
      ],
      "execution_count": 0,
      "outputs": []
    },
    {
      "cell_type": "markdown",
      "metadata": {
        "id": "Dxg8lfkUe5aw",
        "colab_type": "text"
      },
      "source": [
        "## Q1 [3 points]\n",
        "**[Data Cleaning]**\n",
        "\n",
        "For this questions, we continue from the last exercise. The dataset has been partially cleaned.\n",
        "\n",
        "For this data, let's create some additional variables to allow us incorporate more richness to the model. \n",
        "\n",
        "\n",
        "* For each observation, create the variable \"Sales_lag1\" that gives the number of sales from the previous positive-sales day for this store.\n",
        "* For each observation, create the variable \"Sales_lag2\" that gives the number of sales from two periods ago.\n",
        "* For each observation, create the variable \"Customer_lag1\" that gives the number of customers from the previous positive-sales day for this store.\n",
        "* For each observation, create the variable \"Customer_lag2\" that gives the number of sales from two periods ago.\n",
        "\n"
      ]
    },
    {
      "cell_type": "code",
      "metadata": {
        "id": "oa-KpNvoe5HN",
        "colab_type": "code",
        "colab": {}
      },
      "source": [
        "#These lines of command finish the data cleaning from the last assignment\n",
        "SALE=SALE.merge(STORE)  \n",
        "SALE=SALE.astype({\"Date\":\"datetime64\"}) \n",
        "SALE=SALE[SALE[\"Sales\"]>0]  \n",
        "SALE=SALE[(SALE[\"Store\"]>=1) & (SALE[\"Store\"]<=100)]  \n",
        "SALE=SALE.assign(StateHoliday= lambda x: x.StateHoliday.replace(0,\"0\"))\n",
        "SALE=SALE.astype({\"Date\":\"datetime64\"})\n",
        "SALE=SALE.assign(Month=lambda x: x.Date.dt.month)\n",
        "basedate = pd.Timestamp('2013-01-01')\n",
        "SALE=SALE.assign(Sales_lag1=lambda x: x.Sales.shift(periods=1))\n",
        "SALE=SALE.assign(Sales_lag2=lambda x: x.Sales.shift(periods=2))\n",
        "SALE=SALE.assign(Customer_lag1=lambda x: x.Customers.shift(periods=1))\n",
        "SALE=SALE.assign(Customer_lag2=lambda x: x.Customers.shift(periods=2))\n",
        "\n",
        "\n",
        "#Add commands for this question"
      ],
      "execution_count": 0,
      "outputs": []
    },
    {
      "cell_type": "code",
      "metadata": {
        "id": "NQtsYZFvZFG7",
        "colab_type": "code",
        "colab": {
          "base_uri": "https://localhost:8080/",
          "height": 590
        },
        "outputId": "89b1a501-d005-4c01-a025-c7bc85dd9961"
      },
      "source": [
        "SALE"
      ],
      "execution_count": 8,
      "outputs": [
        {
          "output_type": "execute_result",
          "data": {
            "text/html": [
              "<div>\n",
              "<style scoped>\n",
              "    .dataframe tbody tr th:only-of-type {\n",
              "        vertical-align: middle;\n",
              "    }\n",
              "\n",
              "    .dataframe tbody tr th {\n",
              "        vertical-align: top;\n",
              "    }\n",
              "\n",
              "    .dataframe thead th {\n",
              "        text-align: right;\n",
              "    }\n",
              "</style>\n",
              "<table border=\"1\" class=\"dataframe\">\n",
              "  <thead>\n",
              "    <tr style=\"text-align: right;\">\n",
              "      <th></th>\n",
              "      <th>Store</th>\n",
              "      <th>DayOfWeek</th>\n",
              "      <th>Date</th>\n",
              "      <th>Sales</th>\n",
              "      <th>Customers</th>\n",
              "      <th>Open</th>\n",
              "      <th>Promo</th>\n",
              "      <th>StateHoliday</th>\n",
              "      <th>SchoolHoliday</th>\n",
              "      <th>StoreType</th>\n",
              "      <th>Assortment</th>\n",
              "      <th>CompetitionDistance</th>\n",
              "      <th>CompetitionOpenSinceMonth</th>\n",
              "      <th>CompetitionOpenSinceYear</th>\n",
              "      <th>Promo2</th>\n",
              "      <th>Promo2SinceWeek</th>\n",
              "      <th>Promo2SinceYear</th>\n",
              "      <th>PromoInterval</th>\n",
              "      <th>Month</th>\n",
              "      <th>Sales_lag1</th>\n",
              "      <th>Sales_lag2</th>\n",
              "      <th>Customer_lag1</th>\n",
              "      <th>Customer_lag2</th>\n",
              "    </tr>\n",
              "  </thead>\n",
              "  <tbody>\n",
              "    <tr>\n",
              "      <th>0</th>\n",
              "      <td>1</td>\n",
              "      <td>5</td>\n",
              "      <td>2015-07-31</td>\n",
              "      <td>5263</td>\n",
              "      <td>555</td>\n",
              "      <td>1</td>\n",
              "      <td>1</td>\n",
              "      <td>0</td>\n",
              "      <td>1</td>\n",
              "      <td>c</td>\n",
              "      <td>a</td>\n",
              "      <td>1270.0</td>\n",
              "      <td>9.0</td>\n",
              "      <td>2008.0</td>\n",
              "      <td>0</td>\n",
              "      <td>NaN</td>\n",
              "      <td>NaN</td>\n",
              "      <td>NaN</td>\n",
              "      <td>7</td>\n",
              "      <td>NaN</td>\n",
              "      <td>NaN</td>\n",
              "      <td>NaN</td>\n",
              "      <td>NaN</td>\n",
              "    </tr>\n",
              "    <tr>\n",
              "      <th>1</th>\n",
              "      <td>1</td>\n",
              "      <td>4</td>\n",
              "      <td>2015-07-30</td>\n",
              "      <td>5020</td>\n",
              "      <td>546</td>\n",
              "      <td>1</td>\n",
              "      <td>1</td>\n",
              "      <td>0</td>\n",
              "      <td>1</td>\n",
              "      <td>c</td>\n",
              "      <td>a</td>\n",
              "      <td>1270.0</td>\n",
              "      <td>9.0</td>\n",
              "      <td>2008.0</td>\n",
              "      <td>0</td>\n",
              "      <td>NaN</td>\n",
              "      <td>NaN</td>\n",
              "      <td>NaN</td>\n",
              "      <td>7</td>\n",
              "      <td>5263.0</td>\n",
              "      <td>NaN</td>\n",
              "      <td>555.0</td>\n",
              "      <td>NaN</td>\n",
              "    </tr>\n",
              "    <tr>\n",
              "      <th>2</th>\n",
              "      <td>1</td>\n",
              "      <td>3</td>\n",
              "      <td>2015-07-29</td>\n",
              "      <td>4782</td>\n",
              "      <td>523</td>\n",
              "      <td>1</td>\n",
              "      <td>1</td>\n",
              "      <td>0</td>\n",
              "      <td>1</td>\n",
              "      <td>c</td>\n",
              "      <td>a</td>\n",
              "      <td>1270.0</td>\n",
              "      <td>9.0</td>\n",
              "      <td>2008.0</td>\n",
              "      <td>0</td>\n",
              "      <td>NaN</td>\n",
              "      <td>NaN</td>\n",
              "      <td>NaN</td>\n",
              "      <td>7</td>\n",
              "      <td>5020.0</td>\n",
              "      <td>5263.0</td>\n",
              "      <td>546.0</td>\n",
              "      <td>555.0</td>\n",
              "    </tr>\n",
              "    <tr>\n",
              "      <th>3</th>\n",
              "      <td>1</td>\n",
              "      <td>2</td>\n",
              "      <td>2015-07-28</td>\n",
              "      <td>5011</td>\n",
              "      <td>560</td>\n",
              "      <td>1</td>\n",
              "      <td>1</td>\n",
              "      <td>0</td>\n",
              "      <td>1</td>\n",
              "      <td>c</td>\n",
              "      <td>a</td>\n",
              "      <td>1270.0</td>\n",
              "      <td>9.0</td>\n",
              "      <td>2008.0</td>\n",
              "      <td>0</td>\n",
              "      <td>NaN</td>\n",
              "      <td>NaN</td>\n",
              "      <td>NaN</td>\n",
              "      <td>7</td>\n",
              "      <td>4782.0</td>\n",
              "      <td>5020.0</td>\n",
              "      <td>523.0</td>\n",
              "      <td>546.0</td>\n",
              "    </tr>\n",
              "    <tr>\n",
              "      <th>4</th>\n",
              "      <td>1</td>\n",
              "      <td>1</td>\n",
              "      <td>2015-07-27</td>\n",
              "      <td>6102</td>\n",
              "      <td>612</td>\n",
              "      <td>1</td>\n",
              "      <td>1</td>\n",
              "      <td>0</td>\n",
              "      <td>1</td>\n",
              "      <td>c</td>\n",
              "      <td>a</td>\n",
              "      <td>1270.0</td>\n",
              "      <td>9.0</td>\n",
              "      <td>2008.0</td>\n",
              "      <td>0</td>\n",
              "      <td>NaN</td>\n",
              "      <td>NaN</td>\n",
              "      <td>NaN</td>\n",
              "      <td>7</td>\n",
              "      <td>5011.0</td>\n",
              "      <td>4782.0</td>\n",
              "      <td>560.0</td>\n",
              "      <td>523.0</td>\n",
              "    </tr>\n",
              "    <tr>\n",
              "      <th>...</th>\n",
              "      <td>...</td>\n",
              "      <td>...</td>\n",
              "      <td>...</td>\n",
              "      <td>...</td>\n",
              "      <td>...</td>\n",
              "      <td>...</td>\n",
              "      <td>...</td>\n",
              "      <td>...</td>\n",
              "      <td>...</td>\n",
              "      <td>...</td>\n",
              "      <td>...</td>\n",
              "      <td>...</td>\n",
              "      <td>...</td>\n",
              "      <td>...</td>\n",
              "      <td>...</td>\n",
              "      <td>...</td>\n",
              "      <td>...</td>\n",
              "      <td>...</td>\n",
              "      <td>...</td>\n",
              "      <td>...</td>\n",
              "      <td>...</td>\n",
              "      <td>...</td>\n",
              "      <td>...</td>\n",
              "    </tr>\n",
              "    <tr>\n",
              "      <th>75586</th>\n",
              "      <td>100</td>\n",
              "      <td>1</td>\n",
              "      <td>2013-01-07</td>\n",
              "      <td>10609</td>\n",
              "      <td>823</td>\n",
              "      <td>1</td>\n",
              "      <td>1</td>\n",
              "      <td>0</td>\n",
              "      <td>0</td>\n",
              "      <td>d</td>\n",
              "      <td>a</td>\n",
              "      <td>17930.0</td>\n",
              "      <td>NaN</td>\n",
              "      <td>NaN</td>\n",
              "      <td>0</td>\n",
              "      <td>NaN</td>\n",
              "      <td>NaN</td>\n",
              "      <td>NaN</td>\n",
              "      <td>1</td>\n",
              "      <td>6816.0</td>\n",
              "      <td>7883.0</td>\n",
              "      <td>611.0</td>\n",
              "      <td>645.0</td>\n",
              "    </tr>\n",
              "    <tr>\n",
              "      <th>75587</th>\n",
              "      <td>100</td>\n",
              "      <td>6</td>\n",
              "      <td>2013-01-05</td>\n",
              "      <td>7973</td>\n",
              "      <td>681</td>\n",
              "      <td>1</td>\n",
              "      <td>0</td>\n",
              "      <td>0</td>\n",
              "      <td>0</td>\n",
              "      <td>d</td>\n",
              "      <td>a</td>\n",
              "      <td>17930.0</td>\n",
              "      <td>NaN</td>\n",
              "      <td>NaN</td>\n",
              "      <td>0</td>\n",
              "      <td>NaN</td>\n",
              "      <td>NaN</td>\n",
              "      <td>NaN</td>\n",
              "      <td>1</td>\n",
              "      <td>10609.0</td>\n",
              "      <td>6816.0</td>\n",
              "      <td>823.0</td>\n",
              "      <td>611.0</td>\n",
              "    </tr>\n",
              "    <tr>\n",
              "      <th>75588</th>\n",
              "      <td>100</td>\n",
              "      <td>5</td>\n",
              "      <td>2013-01-04</td>\n",
              "      <td>7129</td>\n",
              "      <td>620</td>\n",
              "      <td>1</td>\n",
              "      <td>0</td>\n",
              "      <td>0</td>\n",
              "      <td>1</td>\n",
              "      <td>d</td>\n",
              "      <td>a</td>\n",
              "      <td>17930.0</td>\n",
              "      <td>NaN</td>\n",
              "      <td>NaN</td>\n",
              "      <td>0</td>\n",
              "      <td>NaN</td>\n",
              "      <td>NaN</td>\n",
              "      <td>NaN</td>\n",
              "      <td>1</td>\n",
              "      <td>7973.0</td>\n",
              "      <td>10609.0</td>\n",
              "      <td>681.0</td>\n",
              "      <td>823.0</td>\n",
              "    </tr>\n",
              "    <tr>\n",
              "      <th>75589</th>\n",
              "      <td>100</td>\n",
              "      <td>4</td>\n",
              "      <td>2013-01-03</td>\n",
              "      <td>7398</td>\n",
              "      <td>672</td>\n",
              "      <td>1</td>\n",
              "      <td>0</td>\n",
              "      <td>0</td>\n",
              "      <td>1</td>\n",
              "      <td>d</td>\n",
              "      <td>a</td>\n",
              "      <td>17930.0</td>\n",
              "      <td>NaN</td>\n",
              "      <td>NaN</td>\n",
              "      <td>0</td>\n",
              "      <td>NaN</td>\n",
              "      <td>NaN</td>\n",
              "      <td>NaN</td>\n",
              "      <td>1</td>\n",
              "      <td>7129.0</td>\n",
              "      <td>7973.0</td>\n",
              "      <td>620.0</td>\n",
              "      <td>681.0</td>\n",
              "    </tr>\n",
              "    <tr>\n",
              "      <th>75590</th>\n",
              "      <td>100</td>\n",
              "      <td>3</td>\n",
              "      <td>2013-01-02</td>\n",
              "      <td>6969</td>\n",
              "      <td>687</td>\n",
              "      <td>1</td>\n",
              "      <td>0</td>\n",
              "      <td>0</td>\n",
              "      <td>1</td>\n",
              "      <td>d</td>\n",
              "      <td>a</td>\n",
              "      <td>17930.0</td>\n",
              "      <td>NaN</td>\n",
              "      <td>NaN</td>\n",
              "      <td>0</td>\n",
              "      <td>NaN</td>\n",
              "      <td>NaN</td>\n",
              "      <td>NaN</td>\n",
              "      <td>1</td>\n",
              "      <td>7398.0</td>\n",
              "      <td>7129.0</td>\n",
              "      <td>672.0</td>\n",
              "      <td>620.0</td>\n",
              "    </tr>\n",
              "  </tbody>\n",
              "</table>\n",
              "<p>75591 rows × 23 columns</p>\n",
              "</div>"
            ],
            "text/plain": [
              "       Store  DayOfWeek       Date  ...  Sales_lag2  Customer_lag1  Customer_lag2\n",
              "0          1          5 2015-07-31  ...         NaN            NaN            NaN\n",
              "1          1          4 2015-07-30  ...         NaN          555.0            NaN\n",
              "2          1          3 2015-07-29  ...      5263.0          546.0          555.0\n",
              "3          1          2 2015-07-28  ...      5020.0          523.0          546.0\n",
              "4          1          1 2015-07-27  ...      4782.0          560.0          523.0\n",
              "...      ...        ...        ...  ...         ...            ...            ...\n",
              "75586    100          1 2013-01-07  ...      7883.0          611.0          645.0\n",
              "75587    100          6 2013-01-05  ...      6816.0          823.0          611.0\n",
              "75588    100          5 2013-01-04  ...     10609.0          681.0          823.0\n",
              "75589    100          4 2013-01-03  ...      7973.0          620.0          681.0\n",
              "75590    100          3 2013-01-02  ...      7129.0          672.0          620.0\n",
              "\n",
              "[75591 rows x 23 columns]"
            ]
          },
          "metadata": {
            "tags": []
          },
          "execution_count": 8
        }
      ]
    },
    {
      "cell_type": "markdown",
      "metadata": {
        "id": "_1Aj4jvfd4__",
        "colab_type": "text"
      },
      "source": [
        "## Q2 [12 points]\n",
        "\n",
        "Again, we split the data into the following segments\n",
        "\n",
        "(1) Training: Time window 2013-01-01 to 2015-03-31  \n",
        "\n",
        "(2) Validation: Time window 2015-04-01 to 2015-05-31 \n",
        "\n",
        "(3) Testing: Time window 2015-06-01 to 2015-07-31\n",
        "\n",
        "For this question, let's try to construct a model that can help us predict the sales for the next day.\n",
        "\n",
        "* Regressing log(Sales) on: log(Sales\\_lag1),  log(Customers\\_lag1), C(DayOfWeek), C(Month), Promo, StateHoliday, SchoolHoliday, C(Store) [Model 1]\n",
        "* Use RMSPE to evaluate the performance on the the validation set. [Again, the focus is how to accurately predict the sales not log(sales) ]\n",
        "* Show whether adding log(Sales\\_lag2), and log(Customers\\_lag2) to this model can improve model fit. [Model 2]\n",
        "* Based on Model1, use line plot to show the model fitting by having\n",
        ">>* a line of DaysSinceFirst (x-axis) v.s. actual sales (y-axis)  for  points in the validation set for store=50 [use blue color]\n",
        ">>* a line of DaysSinceFirst (x-axis) v.s. predicted sales (y-axis)  for  points in the validation set for store=50 [use green color]\n",
        ">>* Add a legend to the plot to indicate what each line indicates."
      ]
    },
    {
      "cell_type": "code",
      "metadata": {
        "id": "BwBNzoeSegid",
        "colab_type": "code",
        "colab": {}
      },
      "source": [
        "#These lines of command finish the data split from the last assignment\n",
        "SALE=SALE.assign(DaysSinceFirst=lambda x: (x.Date-basedate).dt.days)\n",
        "SALE_Training=SALE[SALE[\"Date\"]<=\"2015-03-31\"]\n",
        "SALE_Validation=SALE[(SALE[\"Date\"]>=\"2015-04-01\") & (SALE[\"Date\"]<=\"2015-05-31\")]\n",
        "SALE_Testing=SALE[SALE[\"Date\"]>=\"2015-06-01\"]\n",
        "\n",
        "#Add additional commands\n",
        "model1=ols(formula=\"np.log(Sales)~np.log(Sales_lag1)+np.log(Customer_lag1)+C(DayOfWeek)+C(Month)+Promo+StateHoliday+SchoolHoliday+C(Store)\", data=SALE_Training).fit()\n",
        "def rmspe(y_pred, y_true):\n",
        "    loss = np.sqrt(np.mean(np.square(((y_true - y_pred) / y_true))))\n",
        "    return loss\n",
        "rmspe(model1.predict(SALE_Validation),SALE_Validation[\"Sales\"])\n",
        "print(model1.summary())"
      ],
      "execution_count": 0,
      "outputs": []
    },
    {
      "cell_type": "code",
      "metadata": {
        "id": "ISWRVxo6Q1t-",
        "colab_type": "code",
        "colab": {}
      },
      "source": [
        ""
      ],
      "execution_count": 0,
      "outputs": []
    },
    {
      "cell_type": "markdown",
      "metadata": {
        "id": "09mN0h2mHl0n",
        "colab_type": "text"
      },
      "source": [
        "## Q3 [3 Points]\n",
        "\n",
        "Now, let's assume that the company wants to do a two-day ahead prediction. Let's run the following model\n",
        "\n",
        "* regressing log(Sales) on:  log(Sales\\_lag2), log(Customers\\_lag2), C(DayOfWeek), C(Month), Promo, StateHoliday, SchoolHoliday, C(Store)\n",
        "* Use RMSPE to evaluate the performance on the validation set. [Again, the focus is how to accurately predict the sales not log(sales) ]\n",
        "* Compare with one-day ahead prediction, see how model fitting changes."
      ]
    },
    {
      "cell_type": "code",
      "metadata": {
        "id": "Yuv95ZAmIkmw",
        "colab_type": "code",
        "colab": {}
      },
      "source": [
        ""
      ],
      "execution_count": 0,
      "outputs": []
    },
    {
      "cell_type": "code",
      "metadata": {
        "id": "2H9DOYX0I-MI",
        "colab_type": "code",
        "colab": {}
      },
      "source": [
        ""
      ],
      "execution_count": 0,
      "outputs": []
    },
    {
      "cell_type": "markdown",
      "metadata": {
        "id": "vVbCF1_pDeGy",
        "colab_type": "text"
      },
      "source": [
        "# Exercise 2 [42 Points]\n",
        "\n",
        "In this exercise, let's take a deeper look at Poisson model\n",
        "\n",
        "This data measures the number of ad exposures each customer got **within 1 day**. \n"
      ]
    },
    {
      "cell_type": "code",
      "metadata": {
        "id": "1PLVYS2QDhNs",
        "colab_type": "code",
        "outputId": "4fb48a3a-a456-45c0-c4e0-a59591dc04f7",
        "colab": {
          "base_uri": "https://localhost:8080/",
          "height": 203
        }
      },
      "source": [
        "#Load the dataset\n",
        "link=\"https://drive.google.com/open?id=1pjdoOKuczV8Zc6Zw8-yUh6q2tqogN-xt\"\n",
        "_,id=link.split(\"=\")\n",
        "downloaded = drive.CreateFile({'id':id}) \n",
        "downloaded.GetContentFile('Exposure.csv')  \n",
        "Ad = pd.read_csv('Exposure.csv')\n",
        "Ad.head(5)\n",
        "\n"
      ],
      "execution_count": 0,
      "outputs": [
        {
          "output_type": "execute_result",
          "data": {
            "text/html": [
              "<div>\n",
              "<style scoped>\n",
              "    .dataframe tbody tr th:only-of-type {\n",
              "        vertical-align: middle;\n",
              "    }\n",
              "\n",
              "    .dataframe tbody tr th {\n",
              "        vertical-align: top;\n",
              "    }\n",
              "\n",
              "    .dataframe thead th {\n",
              "        text-align: right;\n",
              "    }\n",
              "</style>\n",
              "<table border=\"1\" class=\"dataframe\">\n",
              "  <thead>\n",
              "    <tr style=\"text-align: right;\">\n",
              "      <th></th>\n",
              "      <th>Cookie_ID</th>\n",
              "      <th>Exposures</th>\n",
              "    </tr>\n",
              "  </thead>\n",
              "  <tbody>\n",
              "    <tr>\n",
              "      <th>0</th>\n",
              "      <td>1</td>\n",
              "      <td>0</td>\n",
              "    </tr>\n",
              "    <tr>\n",
              "      <th>1</th>\n",
              "      <td>2</td>\n",
              "      <td>0</td>\n",
              "    </tr>\n",
              "    <tr>\n",
              "      <th>2</th>\n",
              "      <td>3</td>\n",
              "      <td>3</td>\n",
              "    </tr>\n",
              "    <tr>\n",
              "      <th>3</th>\n",
              "      <td>4</td>\n",
              "      <td>49</td>\n",
              "    </tr>\n",
              "    <tr>\n",
              "      <th>4</th>\n",
              "      <td>5</td>\n",
              "      <td>4</td>\n",
              "    </tr>\n",
              "  </tbody>\n",
              "</table>\n",
              "</div>"
            ],
            "text/plain": [
              "   Cookie_ID  Exposures\n",
              "0          1          0\n",
              "1          2          0\n",
              "2          3          3\n",
              "3          4         49\n",
              "4          5          4"
            ]
          },
          "metadata": {
            "tags": []
          },
          "execution_count": 57
        }
      ]
    },
    {
      "cell_type": "markdown",
      "metadata": {
        "id": "JhDqgdG9FpLp",
        "colab_type": "text"
      },
      "source": [
        "## Q1 [2 points]\n",
        "\n",
        "For this exercise, let's first separate the data based on sklearn.model_selection\n",
        "\n",
        "* Split the data to training (90% of the samples) and validation set (10% of the samples), with random_state=42\n",
        "* Print the average of outcomes in the validation set.\n"
      ]
    },
    {
      "cell_type": "code",
      "metadata": {
        "id": "8GyMLusDFok8",
        "colab_type": "code",
        "colab": {}
      },
      "source": [
        ""
      ],
      "execution_count": 0,
      "outputs": []
    },
    {
      "cell_type": "markdown",
      "metadata": {
        "id": "YsdiSsU8IJ47",
        "colab_type": "text"
      },
      "source": [
        "##Q2 [10 Points]\n",
        "We want to estimate a one-segment Poisson model based on the training set\n",
        "\n",
        "* Define a function that returns the joint-log-likelihood assuming that the outcomes are sampled from a Poisson distribution. Again, remember to assume that $\\lambda=exp(\\beta)$\n",
        "\n",
        "* Implement a naive search to find the best $\\beta$ by looping through every possible $\\beta$ value inside `np.arange(-1,2,0.001)`\n",
        "\n",
        "* The closed solution for an MLE poisson problem has $\\hat{\\lambda}=\\bar{y}$, where $y$ is a vector of all the count outcomes. Compare the best $\\hat{\\lambda}$ from the naive search with the closed-form solution.\n",
        "* Assume that when increasing the exposure length to $a$ units of time, the number of exposures received by each customer will still follow a Poisson distribution with new $\\lambda'=a\\lambda$. Based on the model, how is the size of customers who did not receive an exposure within 1 day expected to change if we increase the length of exposures to 4 days? For $\\hat{\\lambda}$, use the result based on the closed-form solution."
      ]
    },
    {
      "cell_type": "code",
      "metadata": {
        "id": "F1LvyDd3FSOI",
        "colab_type": "code",
        "colab": {}
      },
      "source": [
        "#Define Likelihood function"
      ],
      "execution_count": 0,
      "outputs": []
    },
    {
      "cell_type": "code",
      "metadata": {
        "id": "hdIER7JhJcJD",
        "colab_type": "code",
        "colab": {}
      },
      "source": [
        "#Perform naive search"
      ],
      "execution_count": 0,
      "outputs": []
    },
    {
      "cell_type": "code",
      "metadata": {
        "id": "SU7ETg0OA6hU",
        "colab_type": "code",
        "colab": {}
      },
      "source": [
        "#Compare naive search with closed-form solution"
      ],
      "execution_count": 0,
      "outputs": []
    },
    {
      "cell_type": "code",
      "metadata": {
        "id": "IXM-bT6gOU5M",
        "colab_type": "code",
        "colab": {}
      },
      "source": [
        "#how is the size of customers who did not receive a exposures expected to change \n",
        "#if we increase the length of exposures to 4 days?"
      ],
      "execution_count": 0,
      "outputs": []
    },
    {
      "cell_type": "markdown",
      "metadata": {
        "id": "k0e_MKrGLI0_",
        "colab_type": "text"
      },
      "source": [
        "## Q3 [12 Points]\n",
        "\n",
        "For a two-segment model, we did not put a constraint on the relationship between $\\lambda_1$ (Segment1) and $\\lambda_2$ (Segment2) in the lecture. As a result, certain iterations will have $\\lambda_1>\\lambda_2$, while certain iterations will have $\\lambda_1>\\lambda_2$.\n",
        "\n",
        "* Think about a way to constrain the parameters for the two-segment model to always give $\\lambda_1<\\lambda_2$ when setting starting_params=np.random.rand(3). Implement this algorithm and report $\\hat{\\lambda_1}$ and $\\hat{\\lambda_2}$. \n",
        "\n",
        "* Based on this model, how many people do you predict on the validation set to have at least 2 exposures? How does this number compare to the actual numbers?\n",
        "\n",
        "* If a consumer belongs to segment 1, what is the probability of this customer receiving at least 2 exposures? What if this customer belongs to segment2?\n",
        "\n",
        "* If a customer received at least 2 exposures, what is the probability for this customer to belong to segment 1? How about segment2?"
      ]
    },
    {
      "cell_type": "code",
      "metadata": {
        "id": "UEUF6ZmPLjia",
        "colab_type": "code",
        "colab": {}
      },
      "source": [
        "class Poisson_Mix2(GenericLikelihoodModel):\n",
        "\n"
      ],
      "execution_count": 0,
      "outputs": []
    },
    {
      "cell_type": "code",
      "metadata": {
        "id": "1Trw5g_h7Glo",
        "colab_type": "code",
        "colab": {}
      },
      "source": [
        "#Based on this model, how many people do you predict on the validation set to have\n",
        "# at least 2 exposures? How does this number compare to the actual numbers?\n",
        "\n",
        "\n",
        "\n",
        "\n",
        "\n",
        "\n"
      ],
      "execution_count": 0,
      "outputs": []
    },
    {
      "cell_type": "code",
      "metadata": {
        "id": "QDKVB0pnCPFX",
        "colab_type": "code",
        "colab": {}
      },
      "source": [
        "#If a consumer belongs to segment 1, what is the probability of this customer \n",
        "#recieving at least 2 advertisement exposures? What if this customer belongs to segment2?\n"
      ],
      "execution_count": 0,
      "outputs": []
    },
    {
      "cell_type": "code",
      "metadata": {
        "id": "G412iVKdCnTm",
        "colab_type": "code",
        "colab": {}
      },
      "source": [
        "#If a customer received at least 2 advertisement exposures, what is the probability\n",
        "# for this customer to belong to segment 1? How about segment2?\n",
        "\n"
      ],
      "execution_count": 0,
      "outputs": []
    },
    {
      "cell_type": "markdown",
      "metadata": {
        "id": "iTvpPoIcQJQo",
        "colab_type": "text"
      },
      "source": [
        "##Q4 [12 Points]\n",
        "\n",
        "Now run an NBD model on the validation set and answer the following questions:\n",
        "\n",
        "* Based on this model, how many people in the validation set do you predict  to have at least 2 exposures? How different is this number from the actual numbers?\n",
        "\n",
        "* If a customer received 3 advertisement exposures, plot the posterior distribution of the $\\lambda$ for this customer.\n",
        "\n",
        "* For all the customers receiving 3 advertisement exposures in the validation set, what is the expected number of customers receiving at least 2 advertisement exposures in the next period?\n",
        "\n",
        "\n"
      ]
    },
    {
      "cell_type": "code",
      "metadata": {
        "id": "cCFH4_RTLGd8",
        "colab_type": "code",
        "colab": {}
      },
      "source": [
        "class NBD(GenericLikelihoodModel):\n",
        "  "
      ],
      "execution_count": 0,
      "outputs": []
    },
    {
      "cell_type": "code",
      "metadata": {
        "id": "H8WOaWBKEiJe",
        "colab_type": "code",
        "colab": {}
      },
      "source": [
        "#Based on this model, how many people in the validation set do you predict to have at least 2 exposures?\n",
        "# How does this number compare to the actual numbers?"
      ],
      "execution_count": 0,
      "outputs": []
    },
    {
      "cell_type": "code",
      "metadata": {
        "id": "Mn0FarY5Fvg9",
        "colab_type": "code",
        "colab": {}
      },
      "source": [
        "#If a customer received 3 advertisement exposures,\n",
        "# plot the posterior distribution of the  λ  for this customer."
      ],
      "execution_count": 0,
      "outputs": []
    },
    {
      "cell_type": "code",
      "metadata": {
        "id": "5GTuqC9JGqsg",
        "colab_type": "code",
        "colab": {}
      },
      "source": [
        "#For all the customers receiving 3 advertisment exposures in the validation set, \n",
        "#what is the expected number of customers receiving at least 2 advertisement exposures in the next period?"
      ],
      "execution_count": 0,
      "outputs": []
    },
    {
      "cell_type": "markdown",
      "metadata": {
        "id": "4N3lh-KFFoox",
        "colab_type": "text"
      },
      "source": [
        "## Q5 [6 Points]\n",
        "\n",
        "Compare the model in Q3 and Q4 and use the following 3 measurements to discuss which model is better\n",
        "\n",
        "* AIC of the model on the training set\n",
        "* BIC of the model on the training set\n",
        "* Joint log-likelihood for data points on the validation set"
      ]
    },
    {
      "cell_type": "code",
      "metadata": {
        "id": "1KP81NmNMar7",
        "colab_type": "code",
        "colab": {}
      },
      "source": [
        ""
      ],
      "execution_count": 0,
      "outputs": []
    },
    {
      "cell_type": "code",
      "metadata": {
        "id": "OdmsGMlNHty8",
        "colab_type": "code",
        "colab": {}
      },
      "source": [
        ""
      ],
      "execution_count": 0,
      "outputs": []
    },
    {
      "cell_type": "code",
      "metadata": {
        "id": "CBqztW7pIvmo",
        "colab_type": "code",
        "colab": {}
      },
      "source": [
        ""
      ],
      "execution_count": 0,
      "outputs": []
    }
  ]
}